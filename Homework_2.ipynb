{
 "cells": [
  {
   "cell_type": "markdown",
   "metadata": {},
   "source": [
    "# Homework 02 - How do Taxis move in NYC?"
   ]
  },
  {
   "cell_type": "code",
   "execution_count": 1,
   "metadata": {},
   "outputs": [],
   "source": [
    "import pandas as pd\n",
    "import matplotlib.pyplot as plt\n",
    "from datetime import datetime, time\n",
    "import numpy as np\n",
    "from scipy.stats import chisquare,chi2_contingency\n",
    "from scipy import stats\n",
    "import folium as folium\n",
    "import json as json\n",
    "\n",
    "#This function only returns the date of the trip\n",
    "\n",
    "def date(row): \n",
    "    return row.date()\n",
    "\n",
    "#This function returns the time slot of a trip\n",
    "\n",
    "def timeSlot(row):\n",
    "    if time(0,1,0) <= row.time() <= time(6,0,0):\n",
    "        return 1\n",
    "    elif time(6,1,0) <= row.time() <= time(12,0,0):\n",
    "        return 2\n",
    "    elif time(12,1,0) <= row.time() <= time(18,0,0):\n",
    "        return 3\n",
    "    else:\n",
    "        return 4\n",
    "    \n",
    "# This function returns the trip's duration in minutes\n",
    "\n",
    "def minutes(row): \n",
    "    return row//60\n",
    "\n",
    "# This function returns duration slot of a trip \n",
    "\n",
    "def duration_trip (row): \n",
    "    if 0 <= row <= 15:\n",
    "        return '[0-15]'\n",
    "    elif 16 <= row <= 30:\n",
    "        return '[16-30]'\n",
    "    elif 31 <= row <= 45 :\n",
    "        return '[31-45]'\n",
    "    elif 46 <= row <= 60:\n",
    "        return '[46-60]'\n",
    "    else: \n",
    "        return '[60+]'    \n",
    "    \n",
    "n = 1\n",
    "month = ['January', 'February', 'March', 'April', 'May', 'June']\n",
    "avg_month_ny = {}\n",
    "avg_month_borough = {}\n",
    "time_slot_month_ny = {}\n",
    "time_slot_month_borough = {}\n",
    "duration_trip_ny = {}\n",
    "duration_trip_borough = {}\n",
    "payment_ny_global = {}\n",
    "payment_borough_global = {}\n",
    "payment_borough_percentage_global = {}\n",
    "df_global = pd.DataFrame(columns=['duration', 'trip_distance'])\n",
    "parse_dates = ['tpep_pickup_datetime', 'tpep_dropoff_datetime']\n",
    "\n",
    "# We import the csv file containing the data of Taxi zone , in order to have a dataset with all the informations. We import only\n",
    "# the columns that interest us for our analysis.\n",
    "\n",
    "df_zone = pd.read_csv('taxi_zone_lookup.csv', usecols=[0,1], encoding = 'ISO-8859-1')"
   ]
  },
  {
   "cell_type": "markdown",
   "metadata": {},
   "source": [
    "# Research questions\n",
    "\n",
    "## Exploratory Data Analysis\n",
    "\n",
    "### [RQ1] _In what period of the year Taxis are used more?_ "
   ]
  },
  {
   "cell_type": "markdown",
   "metadata": {},
   "source": [
    "The final goal of this request is to determinate in what period of the year Taxis are used more, first in NYC and then in each borough of NYC. \n",
    "\n",
    "Before accomplishing the task we need to pass through the following steps:\n",
    "\n",
    "1. Obtain the data for the Taxis in NYC, starting from January 2018\n",
    "2. Keep only the trips belonging to the month in question (ie. January 2018)\n",
    "3. Merge between the data for the Taxis and the data for the taxi zone of NYC\n",
    "4. Compute the average daily number of trips, first in NYC and then in each borough of NYC\n",
    "5. Repeat the previous steps for each month until June 2018"
   ]
  },
  {
   "cell_type": "code",
   "execution_count": 2,
   "metadata": {},
   "outputs": [],
   "source": [
    "while(n<7):\n",
    "    csv = \"yellow_tripdata_2018-0\"+str(n)+\".csv\"\n",
    "\n",
    "    # Step 1: Obtain the data for the Taxis in NYC, starting from January 2018\n",
    "    \n",
    "    # The first thing we do is to import the csv file containing the data of Taxis in NYC, in order to have a dataset with all\n",
    "    # the informations. We import only the columns that interest us for our analysis. We parse the 'tpep_pickup_datetime' and\n",
    "    # 'tpep_pickup_datetime' columns as dates.\n",
    "\n",
    "    df_taxi= pd.read_csv(csv, usecols = [1,2,3,4,7,8,9,16], parse_dates = parse_dates, encoding = 'ISO-8859-1')\n",
    "    \n",
    "    # Step 2: Keep only the trips belonging to the month in question (ie. January 2018)\n",
    "    \n",
    "    # We clen the dataset. We drop the rows containig wrong values, as: different year from 2018, different month for the \n",
    "    # pickup datetime and dropoff datetime columns. We consider the trips at midnight as belonging to the day of pick up.\n",
    "\n",
    "    df_taxi = df_taxi[df_taxi['tpep_pickup_datetime'].dt.year == 2018]\n",
    "    df_taxi = df_taxi[df_taxi['tpep_pickup_datetime'].dt.month == n]\n",
    "    df_taxi = df_taxi[df_taxi['tpep_dropoff_datetime'].dt.year == 2018]\n",
    "    df_taxi = df_taxi[df_taxi['tpep_dropoff_datetime'].dt.month <= n+1]\n",
    "    \n",
    "    # Step 3: Merge between the data for the Taxis and the data for the taxi zone of NYC\n",
    "    \n",
    "    # We perform a left join between the taxi dataset and the taxi zone dataset on 'PULocationID' and 'LocationId' columns, respectively \n",
    "\n",
    "    df_join = pd.merge(df_taxi,df_zone, how = 'left', left_on=['PULocationID'], right_on=['LocationID'])\n",
    "    \n",
    "    del df_taxi\n",
    "    \n",
    "    # Step 4: Compute the average daily number of trips, first in NYC and then in each borough of NYC\n",
    "    \n",
    "    # The first thing to do is to create a new column in our dataset where we only put the date of the pickup trip. Then we execute\n",
    "    # a groupby operation on date and borough columns.\n",
    "    \n",
    "    df_join['date'] = df_join['tpep_pickup_datetime'].apply(date)\n",
    "    date_borough = df_join.groupby(['date','Borough']).date.count()\n",
    "\n",
    "    rows, col = df_join.shape\n",
    "    \n",
    "    del df_join\n",
    "    \n",
    "    # Now we execute the avarage daily number of trips in NYC : number of rows of our dataset (total trips) / number of days in that month\n",
    "   \n",
    "    avg_race_ny = round(rows//len(date_borough.keys().levels[0]),2)\n",
    "    \n",
    "    # We save our results in a dictionary (called avg_month_ny) containing all the avarage daily number of trips for each month in analysis. \n",
    "    \n",
    "    avg_month_ny[month[n-1]] = avg_race_ny\n",
    "\n",
    "    date_borough_dict = date_borough.to_dict()\n",
    "    \n",
    "    # We create a new dictionary (called races_borough) that has as keys the boroughs and as values the total races for the month in analysis.\n",
    "   \n",
    "    races_borough = {}\n",
    "    for i in date_borough_dict:\n",
    "        if i[1] not in races_borough:\n",
    "            races_borough[i[1]] = date_borough_dict[i]\n",
    "        else: \n",
    "            races_borough[i[1]] += date_borough_dict[i]\n",
    "            \n",
    "    # We create a new dictionary (called daily_races) that has as keys the boroughs and as values the average daily number of trips for each boroughs.\n",
    "   \n",
    "    daily_races = {}\n",
    "    for i in races_borough:\n",
    "        daily_races[i] = races_borough[i]//len(date_borough.keys().levels[0])\n",
    "    \n",
    "    # We save our results in a dictionary (called avg_month_borough) containing all the avarage daily number of trips for each month and borough.\n",
    "    \n",
    "    avg_month_borough[month[n-1]] = daily_races\n",
    "    \n",
    "    # Step 5: Repeat the previous steps for each month until June 2018\n",
    "    \n",
    "    n += 1\n",
    "    "
   ]
  },
  {
   "cell_type": "markdown",
   "metadata": {},
   "source": [
    "We use the matplotlib.pyplot library to create a histogram that shows the avarage number of trips recorded each month in NYC"
   ]
  },
  {
   "cell_type": "code",
   "execution_count": 3,
   "metadata": {},
   "outputs": [
    {
     "data": {
      "image/png": "[encoded data removed]",
      "text/plain": [
       "<Figure size 1440x576 with 1 Axes>"
      ]
     },
     "metadata": {},
     "output_type": "display_data"
    }
   ],
   "source": [
    "fig, ax = plt.subplots(figsize=(20,8))\n",
    "fig.suptitle('Average daily number of trips for each month in New York - From January to June 2018',fontsize = 17)\n",
    "plt.bar(range(len(avg_month_ny)),list(avg_month_ny.values()), align = 'center',width = 0.3)\n",
    "plt.xticks(range(len(avg_month_ny)),list(avg_month_ny.keys()))\n",
    "ax.tick_params(labelsize=15)\n",
    "plt.xlabel('Months', fontsize=15)\n",
    "plt.ylabel('Avg daily trips', fontsize=15)\n",
    "plt.show()"
   ]
  },
  {
   "cell_type": "code",
   "execution_count": 4,
   "metadata": {},
   "outputs": [
    {
     "data": {
      "text/plain": [
       "January     282565\n",
       "February    303263\n",
       "March       304162\n",
       "April       310167\n",
       "May         297540\n",
       "June        290443\n",
       "dtype: int64"
      ]
     },
     "execution_count": 4,
     "metadata": {},
     "output_type": "execute_result"
    }
   ],
   "source": [
    "pd.Series(avg_month_ny)"
   ]
  },
  {
   "cell_type": "markdown",
   "metadata": {},
   "source": [
    "This histogram has on the x axis the months of the period in analysis and on the y axis the avarage daily number of trips in NYC. We can observe that the period of the year where taxis are used more is between February and April with a \n",
    "peak in April with about 310167 trips in mean in one day. "
   ]
  },
  {
   "cell_type": "code",
   "execution_count": 5,
   "metadata": {},
   "outputs": [],
   "source": [
    "# We calculate the avarage daily number of trips for each borough for the whole period taken in analysis. For each borough \n",
    "# we sum the avarage daily number of trips of every month and then we divide each sum to the number of the months taken into \n",
    "# consideration in our analysis (number of the months taken into consideration in our analysis = 6)\n",
    "\n",
    "result = {}\n",
    "for i in avg_month_borough: \n",
    "    for j in avg_month_borough[i]: \n",
    "        if j not in result: \n",
    "            result[j] = avg_month_borough[i][j]\n",
    "        else: \n",
    "            result[j] += avg_month_borough[i][j]\n",
    "\n",
    "for i in result: \n",
    "    result[i] = result[i]//6"
   ]
  },
  {
   "cell_type": "markdown",
   "metadata": {},
   "source": [
    "We use the matplotlib.pyplot library to create a histogram that shows the avarage number of trips recorded in each borough of NYC in the whole period taken in analisys. "
   ]
  },
  {
   "cell_type": "code",
   "execution_count": 6,
   "metadata": {},
   "outputs": [
    {
     "data": {
      "image/png": "[encoded data removed]",
      "text/plain": [
       "<Figure size 1440x576 with 1 Axes>"
      ]
     },
     "metadata": {},
     "output_type": "display_data"
    }
   ],
   "source": [
    "fig, ax = plt.subplots(figsize=(20,8))\n",
    "fig.suptitle('Average daily number of trips for each borough - From January to June 2018',fontsize = 17)\n",
    "plt.bar(range(len(result)),list(result.values()), align = 'center',width = 0.3)\n",
    "plt.xticks(range(len(result)),list(result.keys()))\n",
    "ax.tick_params(labelsize=15)\n",
    "plt.xlabel('Borough', fontsize=15)\n",
    "plt.ylabel('Avarage daily number of trips', fontsize=15)\n",
    "plt.show()"
   ]
  },
  {
   "cell_type": "markdown",
   "metadata": {},
   "source": [
    "This histogram has on the x axis the borough of NYC and on the y axis the avarage daily number of trips in each borough. We can observe that the borough of NYC where taxis are used more is Manhattan. As we can observe the difference among Manhattan and the others boroughs is very marked we suppose that this high value for Manhattan is due to the fact that is the core of the city of NYC, in addition to being a tourist area it is a crucial area for office workers. "
   ]
  },
  {
   "cell_type": "code",
   "execution_count": 7,
   "metadata": {},
   "outputs": [
    {
     "data": {
      "text/html": [
       "<div>\n",
       "<style scoped>\n",
       "    .dataframe tbody tr th:only-of-type {\n",
       "        vertical-align: middle;\n",
       "    }\n",
       "\n",
       "    .dataframe tbody tr th {\n",
       "        vertical-align: top;\n",
       "    }\n",
       "\n",
       "    .dataframe thead th {\n",
       "        text-align: right;\n",
       "    }\n",
       "</style>\n",
       "<table border=\"1\" class=\"dataframe\">\n",
       "  <thead>\n",
       "    <tr style=\"text-align: right;\">\n",
       "      <th></th>\n",
       "      <th>January</th>\n",
       "      <th>February</th>\n",
       "      <th>March</th>\n",
       "      <th>April</th>\n",
       "      <th>May</th>\n",
       "      <th>June</th>\n",
       "    </tr>\n",
       "  </thead>\n",
       "  <tbody>\n",
       "    <tr>\n",
       "      <th>Bronx</th>\n",
       "      <td>238</td>\n",
       "      <td>234</td>\n",
       "      <td>333</td>\n",
       "      <td>347</td>\n",
       "      <td>350</td>\n",
       "      <td>340</td>\n",
       "    </tr>\n",
       "    <tr>\n",
       "      <th>Brooklyn</th>\n",
       "      <td>3233</td>\n",
       "      <td>3396</td>\n",
       "      <td>3965</td>\n",
       "      <td>3968</td>\n",
       "      <td>3961</td>\n",
       "      <td>4098</td>\n",
       "    </tr>\n",
       "    <tr>\n",
       "      <th>EWR</th>\n",
       "      <td>18</td>\n",
       "      <td>17</td>\n",
       "      <td>21</td>\n",
       "      <td>23</td>\n",
       "      <td>24</td>\n",
       "      <td>22</td>\n",
       "    </tr>\n",
       "    <tr>\n",
       "      <th>Manhattan</th>\n",
       "      <td>256948</td>\n",
       "      <td>277401</td>\n",
       "      <td>276368</td>\n",
       "      <td>280945</td>\n",
       "      <td>269345</td>\n",
       "      <td>262610</td>\n",
       "    </tr>\n",
       "    <tr>\n",
       "      <th>Queens</th>\n",
       "      <td>16996</td>\n",
       "      <td>17303</td>\n",
       "      <td>18218</td>\n",
       "      <td>19876</td>\n",
       "      <td>19703</td>\n",
       "      <td>19157</td>\n",
       "    </tr>\n",
       "    <tr>\n",
       "      <th>Staten Island</th>\n",
       "      <td>4</td>\n",
       "      <td>3</td>\n",
       "      <td>4</td>\n",
       "      <td>4</td>\n",
       "      <td>4</td>\n",
       "      <td>5</td>\n",
       "    </tr>\n",
       "    <tr>\n",
       "      <th>Unknown</th>\n",
       "      <td>5125</td>\n",
       "      <td>4907</td>\n",
       "      <td>5250</td>\n",
       "      <td>5001</td>\n",
       "      <td>4150</td>\n",
       "      <td>4208</td>\n",
       "    </tr>\n",
       "  </tbody>\n",
       "</table>\n",
       "</div>"
      ],
      "text/plain": [
       "               January  February   March   April     May    June\n",
       "Bronx              238       234     333     347     350     340\n",
       "Brooklyn          3233      3396    3965    3968    3961    4098\n",
       "EWR                 18        17      21      23      24      22\n",
       "Manhattan       256948    277401  276368  280945  269345  262610\n",
       "Queens           16996     17303   18218   19876   19703   19157\n",
       "Staten Island        4         3       4       4       4       5\n",
       "Unknown           5125      4907    5250    5001    4150    4208"
      ]
     },
     "execution_count": 7,
     "metadata": {},
     "output_type": "execute_result"
    }
   ],
   "source": [
    "pd.DataFrame(avg_month_borough)"
   ]
  },
  {
   "cell_type": "markdown",
   "metadata": {},
   "source": [
    "### [RQ2] _What are the time slots with more passengers?_ "
   ]
  },
  {
   "cell_type": "markdown",
   "metadata": {},
   "source": [
    "The final goal of this request is to determinate which are the time slots when Taxis drive the highest number of passengers overall NYC and then for each borough of NYC. \n",
    "\n",
    "We decide to concentrate our analysis only on pickup_datetime column. \n",
    "\n",
    "We decide to divide our time slots in 4 slots, which are: \n",
    "\n",
    "1) **First slot** : [00:01 - 06:00] - Night\n",
    "\n",
    "2) **Second slot**: [06:01 - 12:00] - Morning\n",
    "\n",
    "3) **Third slot**: [12:01 - 18:00] - Afternoon\n",
    "\n",
    "4) **Fourth slot**: [18:01 - 00:00] - Evening \n",
    "\n",
    "Before accomplishing the task we need to pass through the following steps:\n",
    "\n",
    "1. Obtain the data for the Taxis in NYC, starting from January 2018\n",
    "2. Keep only the trips belonging to the month in question (ie. January 2018)\n",
    "3. Merge between the data for the Taxis and the data for the taxi zone of NYC\n",
    "4. Compute the number of passengers for each time slots, first in NYC and then in each borough\n",
    "5. Repeat the previous steps for each month until June 2018"
   ]
  },
  {
   "cell_type": "code",
   "execution_count": 10,
   "metadata": {},
   "outputs": [],
   "source": [
    "n = 1\n",
    "while(n<7):\n",
    "    csv = \"yellow_tripdata_2018-0\"+str(n)+\".csv\"\n",
    "    \n",
    "    # Step 1: Obtain the data for the Taxis in NYC, starting from January 2018\n",
    "    \n",
    "    # The first thing we do is to import the csv file containing the data of Taxis in NYC, in order to have a dataset with all\n",
    "    # the informations. We import only the columns that interest us for our analysis. We parse the 'tpep_pickup_datetime' and\n",
    "    # 'tpep_pickup_datetime' columns as dates.\n",
    "\n",
    "    df_taxi = pd.read_csv(csv, usecols = [1,2,3,4,7,8,9,16], parse_dates = parse_dates, encoding = 'ISO-8859-1') \n",
    "    \n",
    "    # Step 2: Keep only the trips belonging to the month in question (ie. January 2018)\n",
    "    \n",
    "    # We clen the dataset. We drop the rows containig wrong values, as: different year from 2018, different month for the \n",
    "    # pickup datetime and dropoff datetime columns, trips that record 0 passengers. \n",
    "    # We consider the trips at midnight as belonging to the day of pick up.\n",
    "\n",
    "    df_taxi = df_taxi[df_taxi['tpep_pickup_datetime'].dt.year == 2018]\n",
    "    df_taxi = df_taxi[df_taxi['tpep_pickup_datetime'].dt.month == n]\n",
    "    df_taxi = df_taxi[df_taxi['tpep_dropoff_datetime'].dt.year == 2018]\n",
    "    df_taxi = df_taxi[df_taxi['tpep_dropoff_datetime'].dt.month <= n+1]\n",
    "    df_taxi = df_taxi[df_taxi['passenger_count'] != 0] \n",
    "    \n",
    "    # Step 3: Merge between the data for the Taxis and the data for the taxi zone of NYC\n",
    "    \n",
    "    # We perform a left join between the taxi dataset and the taxi zone dataset on 'PULocationID' and 'LocationId' columns, respectively \n",
    "    \n",
    "    df_join = pd.merge(df_taxi,df_zone, how = 'left', left_on=['PULocationID'], right_on=['LocationID'])\n",
    "    \n",
    "    del df_taxi\n",
    "    \n",
    "    # Step 4: compute the number of passengers for each time slots, first in NYC and then in each borough\n",
    "\n",
    "    # The first thing to do is to create a new column in our dataset where we only put the time slot of the pickup trip.\n",
    "    \n",
    "    df_join['time_slot'] = df_join['tpep_pickup_datetime'].apply(timeSlot)\n",
    "    \n",
    "    # We only consider the columns: passenger_count, time_slot and borough\n",
    "    \n",
    "    df_passenger = df_join[['passenger_count','time_slot','Borough']]\n",
    "    \n",
    "    del df_join\n",
    "    \n",
    "    # Then we execute a groupby operation on time slot column and sum the number of passengers of each time slot\n",
    "    \n",
    "    passenger_count_ny = df_passenger.groupby(['time_slot']).passenger_count.sum()\n",
    "    \n",
    "    # We save our results in a dictionary (called time_slot_month_ny) containing the number of passenger for each month and time slot\n",
    "    \n",
    "    time_slot_month_ny[month[n-1]] = passenger_count_ny.to_dict()\n",
    "    \n",
    "    # We execute a groupby operation on borough and time slot columns and sum the number of passengers of each time slot for each borough\n",
    "\n",
    "    passenger_count_borough = df_passenger.groupby(['Borough','time_slot']).passenger_count.sum()\n",
    "    \n",
    "    passenger_count_borough_dict = passenger_count_borough.to_dict()\n",
    "    \n",
    "    # We create a new dictionary (called total_passenger_borough) that has as keys the boroughs and as values the total number\n",
    "    # of passengers for the month in analysis.\n",
    "    \n",
    "    total_passenger_borough = {}\n",
    "    for i in passenger_count_borough_dict: \n",
    "        if i[0] not in total_passenger_borough:\n",
    "            total_passenger_borough[i[0]] = passenger_count_borough_dict[i]\n",
    "        else: \n",
    "             total_passenger_borough[i[0]] += passenger_count_borough_dict[i]\n",
    "                \n",
    "    # We calculate the percentage of passengers in each borough and time slot. We divide the number of passengers of each borough\n",
    "    # and time slot to the total number of passengers for each borough \n",
    "    \n",
    "    d_percentage = {}\n",
    "    for i in passenger_count_borough_dict: \n",
    "        d_percentage[i] = round((passenger_count_borough_dict[i] / total_passenger_borough[i[0]])*100,1)\n",
    "    \n",
    "    # We save our results in a dictionary (called time_slot_month_borough) containing the total number of passengers for each month\n",
    "    # borough and time slot. \n",
    "    \n",
    "    time_slot_month_borough[month[n-1]] = d_percentage\n",
    "    \n",
    "    # Step 5: Repeat the previous steps for each month until June 2018\n",
    "    \n",
    "    n += 1"
   ]
  },
  {
   "cell_type": "code",
   "execution_count": 11,
   "metadata": {},
   "outputs": [],
   "source": [
    "# We calculate the avarage total number of passengers for NYC in the whole period taken in analysis.\n",
    "# We sum the number of passengers for every month and then we divide each sum to the number of the months taken into \n",
    "# consideration in our analysis (number of the months taken into consideration in our analysis = 6)\n",
    "\n",
    "result = {}\n",
    "for i in time_slot_month_ny: \n",
    "    for j in time_slot_month_ny[i]: \n",
    "        if j not in result: \n",
    "            result[j] = time_slot_month_ny[i][j]\n",
    "        else: \n",
    "            result[j] += time_slot_month_ny[i][j]\n",
    "\n",
    "for i in result: \n",
    "    result[i] = result[i]//6"
   ]
  },
  {
   "cell_type": "markdown",
   "metadata": {},
   "source": [
    "We create an histogram that shows the number of passengers for each time slots in NYC for the whole period in analysis."
   ]
  },
  {
   "cell_type": "code",
   "execution_count": 12,
   "metadata": {},
   "outputs": [
    {
     "data": {
      "text/plain": [
       "Text(0.5,1,'Number of passengers for each time slots, New York - From January to June 2018')"
      ]
     },
     "execution_count": 12,
     "metadata": {},
     "output_type": "execute_result"
    },
    {
     "data": {
      "image/png": "[encoded data removed]",
      "text/plain": [
       "<Figure size 1440x576 with 1 Axes>"
      ]
     },
     "metadata": {},
     "output_type": "display_data"
    }
   ],
   "source": [
    "ax = pd.Series(result).plot(kind='bar',figsize=(20,8),legend=False, fontsize=15, width = 0.3)\n",
    "ax.set_xlabel(\"Time slots\",fontsize=15)\n",
    "ax.set_ylabel(\"N passengers\",fontsize=15)\n",
    "ax.set_title('Number of passengers for each time slots, New York - From January to June 2018', fontsize=15)"
   ]
  },
  {
   "cell_type": "markdown",
   "metadata": {},
   "source": [
    "This histogram has on the x axis the time slots and on the y axis the number of passengers in NYC. We can observe that the time slot with the highest number of passengers is the evening time slot [18:01 - 00:00] with about 4893083 passengers. "
   ]
  },
  {
   "cell_type": "code",
   "execution_count": 13,
   "metadata": {},
   "outputs": [
    {
     "data": {
      "text/plain": [
       "1    1412454\n",
       "2    3502764\n",
       "3    4569445\n",
       "4    4893083\n",
       "dtype: int64"
      ]
     },
     "execution_count": 13,
     "metadata": {},
     "output_type": "execute_result"
    }
   ],
   "source": [
    "pd.Series(result)"
   ]
  },
  {
   "cell_type": "code",
   "execution_count": 14,
   "metadata": {},
   "outputs": [],
   "source": [
    "# We calculate the avarage total number of passangers for each borough and time slot in the whole period taken in analysis. \n",
    "# For each borough and time slot we sum the number of passengers of every month and then we divide each sum to the number of the \n",
    "# months taken into consideration in our analysis (number of the months taken into consideration in our analysis = 6)\n",
    "\n",
    "result = {}\n",
    "for i in time_slot_month_borough: \n",
    "    for j in time_slot_month_borough[i]: \n",
    "        if j not in result: \n",
    "            result[j] = time_slot_month_borough[i][j]\n",
    "        else: \n",
    "            result[j] += time_slot_month_borough[i][j]\n",
    "\n",
    "for i in result: \n",
    "    result[i] = result[i]//6"
   ]
  },
  {
   "cell_type": "markdown",
   "metadata": {},
   "source": [
    "We create an histogram that shows for each borough the number of passengers for each time slot in percentage in NYC for the whole period in analysis."
   ]
  },
  {
   "cell_type": "code",
   "execution_count": 15,
   "metadata": {},
   "outputs": [
    {
     "data": {
      "text/plain": [
       "Text(0.5,1,'Percentage of passengers for each borough and time slots - From January to June 2018')"
      ]
     },
     "execution_count": 15,
     "metadata": {},
     "output_type": "execute_result"
    },
    {
     "data": {
      "image/png": "[encoded data removed]",
      "text/plain": [
       "<Figure size 1440x504 with 1 Axes>"
      ]
     },
     "metadata": {},
     "output_type": "display_data"
    }
   ],
   "source": [
    "ax = pd.Series(result).unstack().plot.bar(figsize=(20,7),fontsize = 15, ylim=[0,100])\n",
    "ax.set_xlabel(\"Boroughs\",fontsize=15)\n",
    "ax.set_ylabel(\"Percentage (%) of passengers\",fontsize=15)\n",
    "ax.legend(fontsize=15, title = 'Time slots')\n",
    "ax.set_title('Percentage of passengers for each borough and time slots - From January to June 2018', fontsize=15)"
   ]
  },
  {
   "cell_type": "markdown",
   "metadata": {},
   "source": [
    "This histogram has on the x axis the boroughs of NYC and on the y axis the percentage of passengers. We can observe that Queens and Manhattan have a similar distribution of passengers in each time slot with the highest number of passengers in the evening slot, about 33% and 34% respectively. In the Bronx the highest number of passengers is in the morning slot (27%). \n",
    "In the Brooklyn the highest number of passengers is in the evening slot (35%). In the EWR the highest number of passengers is in the afternoon slot (50%). In the Staten Island the highest number of passengers is in the afternoon slot (29%). "
   ]
  },
  {
   "cell_type": "code",
   "execution_count": 51,
   "metadata": {},
   "outputs": [
    {
     "data": {
      "text/plain": [
       "Bronx          1    17.0\n",
       "               2    33.0\n",
       "               3    27.0\n",
       "               4    22.0\n",
       "Brooklyn       1    22.0\n",
       "               2    22.0\n",
       "               3    19.0\n",
       "               4    35.0\n",
       "EWR            1     7.0\n",
       "               2    24.0\n",
       "               3    50.0\n",
       "               4    17.0\n",
       "Manhattan      1     9.0\n",
       "               2    24.0\n",
       "               3    31.0\n",
       "               4    33.0\n",
       "Queens         1     8.0\n",
       "               2    22.0\n",
       "               3    33.0\n",
       "               4    34.0\n",
       "Staten Island  1    27.0\n",
       "               2    19.0\n",
       "               3    29.0\n",
       "               4    23.0\n",
       "Unknown        1    10.0\n",
       "               2    22.0\n",
       "               3    32.0\n",
       "               4    34.0\n",
       "dtype: float64"
      ]
     },
     "execution_count": 51,
     "metadata": {},
     "output_type": "execute_result"
    }
   ],
   "source": [
    "pd.Series(result)"
   ]
  },
  {
   "cell_type": "markdown",
   "metadata": {},
   "source": [
    "### [RQ3]  _Do the all trips last the same?_\n",
    "\n",
    "The final goal of this request is to determinate the distribution of trips's duration, first overall NYC and then for each borough of NYC. \n",
    "\n",
    "When we deal with boroughs we decided to divide the trip's duration in 5 slots: \n",
    "\n",
    "- [0-15] minutes\n",
    "\n",
    "- [16 -30] minutes\n",
    "\n",
    "- [31 - 45] minutes\n",
    "\n",
    "- [60+] minutes\n",
    "\n",
    "Before accomplishing the task we need to pass through the following steps:\n",
    "\n",
    "1. Obtain the data for the Taxis in NYC, starting from January 2018\n",
    "2. Keep only the trips belonging to the month in question (ie. January 2018)\n",
    "3. Merge between the data for the Taxis and the data for the taxi zone of NYC\n",
    "4. Compute the distribution of trip's duration, first in NYC and then in each borough\n",
    "5. Repeat the previous steps for each month until June 2018"
   ]
  },
  {
   "cell_type": "code",
   "execution_count": 16,
   "metadata": {},
   "outputs": [],
   "source": [
    "n = 1\n",
    "while(n<7):\n",
    "    csv = \"yellow_tripdata_2018-0\"+str(n)+\".csv\"\n",
    "    \n",
    "    # Step 1: Obtain the data for the Taxis in NYC, starting from January 2018\n",
    "    \n",
    "    # The first thing we do is to import the csv file containing the data of Taxis in NYC, in order to have a dataset with all\n",
    "    # the informations. We import only the columns that interest us for our analysis. We parse the 'tpep_pickup_datetime' and\n",
    "    # 'tpep_pickup_datetime' columns as dates.\n",
    "    \n",
    "    df_taxi= pd.read_csv(csv, usecols = [1,2,3,4,7,8,9,16], parse_dates = parse_dates, encoding = 'ISO-8859-1') \n",
    "    \n",
    "    # Step 2: Keep only the trips belonging to the month in question (ie. January 2018)\n",
    "    \n",
    "    # We clen the dataset. We drop the rows containig wrong values, as: different year from 2018, different month for the \n",
    "    # pickup datetime and dropoff datetime columns, same value in pickup_datetime and dropoff_datetime columns. \n",
    "    # We consider the trips at midnight as belonging to the day of pick up.\n",
    "    \n",
    "    df_taxi = df_taxi[df_taxi['tpep_pickup_datetime'].dt.year == 2018]\n",
    "    df_taxi = df_taxi[df_taxi['tpep_pickup_datetime'].dt.month == n]\n",
    "    df_taxi = df_taxi[df_taxi['tpep_dropoff_datetime'].dt.year == 2018]\n",
    "    df_taxi = df_taxi[df_taxi['tpep_dropoff_datetime'].dt.month <= n+1]\n",
    "    df_taxi = df_taxi[df_taxi['tpep_dropoff_datetime'] != df_taxi['tpep_pickup_datetime']]\n",
    "    \n",
    "    # Step 3: Merge between the data for the Taxis and the data for the taxi zone of NYC\n",
    "    \n",
    "    # We perform a left join between the taxi dataset and the taxi zone dataset on 'PULocationID' and 'LocationId' columns, respectively \n",
    "    \n",
    "    df_join = pd.merge(df_taxi,df_zone, how = 'left', left_on=['PULocationID'], right_on=['LocationID'])\n",
    "    \n",
    "    del df_taxi\n",
    "    \n",
    "    # Step 4: compute the distribution of trip's duration, first in NYC and then in each borough\n",
    "    \n",
    "    # The first thing to do is to create a new column in our dataset where we put the difference between dropoff datetime and \n",
    "    # pickup datetime that is the trip's duration. We drop the rows that have duration more than 1 day and negative duration.\n",
    "    # We decide to keep only the trips with maximum duration of 4 hours. \n",
    "    \n",
    "    df_join['duration'] = df_join['tpep_dropoff_datetime']-df_join['tpep_pickup_datetime']\n",
    "    df_join = df_join[df_join['duration'].dt.days == 0]\n",
    "    df_join = df_join[df_join['duration'].dt.seconds <= (3600*4)]\n",
    "    \n",
    "    # First we considered the trip's duration in seconds\n",
    "    \n",
    "    d_minutes = df_join['duration'].dt.seconds\n",
    "    \n",
    "    d_minutes = pd.DataFrame(d_minutes)\n",
    "    \n",
    "    # Then we commute the trip's duration from seconds to minutes\n",
    "    \n",
    "    d_minutes = d_minutes['duration'].apply(minutes)\n",
    "    \n",
    "    # We execute a groupby operation on duration column and count the number of trips there are for each duration\n",
    "    \n",
    "    d_minutes_ny = d_minutes.groupby(d_minutes).count()\n",
    "    \n",
    "    # We save our results in a dictionary (called duration_trip_ny) containing the number of trips for each month and duration \n",
    "    \n",
    "    duration_trip_ny[month[n-1]] = d_minutes_ny.to_dict()\n",
    "\n",
    "    df_borough = pd.DataFrame(df_join['Borough'])\n",
    "\n",
    "    del df_join\n",
    "    \n",
    "    # We repeat our analysis for each borough \n",
    "    \n",
    "    df_borough['duration'] = d_minutes\n",
    "    \n",
    "    # We execute a groupby operation on borough and duration columns and then we count the number of trips there are \n",
    "    # for each duration in every borough \n",
    "    \n",
    "    df_borough = df_borough.groupby(['Borough','duration']).duration.count()\n",
    "\n",
    "    df_borough = pd.DataFrame(pd.Series(df_borough.to_dict()))\n",
    "    df_borough.columns = ['n_races']\n",
    "\n",
    "    df_borough = df_borough.reset_index()\n",
    "                                      \n",
    "    df_borough.columns = ['borough', 'minutes', 'n_races']\n",
    "\n",
    "    # We create a new column (called duration_trip) where we put the duration slot of each trip\n",
    "    \n",
    "    df_borough['duration_trip'] = df_borough['minutes'].apply(duration_trip)\n",
    "\n",
    "    # We execute a groupby operation on borough and duration trip columns and then we compute the number of trip in each duration \n",
    "    # slot for each borough\n",
    "    \n",
    "    df_borough = df_borough.groupby(['borough', 'duration_trip']).n_races.sum()\n",
    "                                      \n",
    "    temp = df_borough.to_dict()\n",
    "    \n",
    "    # We calculate the percentage of trips in each borough and duration slot. We divide the number of trips of each borough\n",
    "    # and duration slot to the total number of trips for each borough \n",
    "    \n",
    "    total_races = {}\n",
    "    for i in temp: \n",
    "        if i[0] not in total_races: \n",
    "            total_races[i[0]] = temp[i]\n",
    "        else: \n",
    "            total_races[i[0]] += temp[i]\n",
    "\n",
    "    d_percentage = {}\n",
    "    for i in temp: \n",
    "        d_percentage[i] = round((temp[i] / total_races[i[0]])*100,1)\n",
    "        \n",
    "    # We save our results in a dictionary (called duration_trip_borough) containing the total number of trips in each borough\n",
    "    # and duration slot for each month\n",
    "    \n",
    "    duration_trip_borough[month[n-1]] =  d_percentage   \n",
    "    \n",
    "    # Step 5: Repeat the previous steps for each month until June 2018\n",
    "    \n",
    "    n += 1"
   ]
  },
  {
   "cell_type": "code",
   "execution_count": 17,
   "metadata": {},
   "outputs": [],
   "source": [
    "# We calculate the avarage number of trips for each month and duration in NYC in the whole period taken in analysis.\n",
    "# We sum the number of trips for each duration slot for every month and then we divide each sum to the number of the months taken into \n",
    "# consideration in our analysis (number of the months taken into consideration in our analysis = 6)\n",
    "\n",
    "result = {}\n",
    "for i in duration_trip_ny: \n",
    "    for j in duration_trip_ny[i]: \n",
    "        if j not in result: \n",
    "            result[j] = duration_trip_ny[i][j]\n",
    "        else: \n",
    "            result[j] += duration_trip_ny[i][j]\n",
    "            \n",
    "for i in result: \n",
    "    result[i] = result[i]//6\n",
    "\n",
    "result = pd.Series(result)"
   ]
  },
  {
   "cell_type": "markdown",
   "metadata": {},
   "source": [
    "We create a function that shows the distribution of trip's duration (in minutes) in NYC for the whole period in analysis."
   ]
  },
  {
   "cell_type": "code",
   "execution_count": 18,
   "metadata": {
    "scrolled": false
   },
   "outputs": [
    {
     "data": {
      "image/png": "[encoded data removed]",
      "text/plain": [
       "<Figure size 1440x576 with 1 Axes>"
      ]
     },
     "metadata": {},
     "output_type": "display_data"
    }
   ],
   "source": [
    "fig, ax = plt.subplots(figsize=(20,8))\n",
    "ax.plot(result, color = 'blue')\n",
    "fig.suptitle(\"Distribution of trip's duration, New York- From January to June 2018\",fontsize = 15)\n",
    "ax.tick_params(labelsize=15)\n",
    "plt.xlabel('Duration (m)', fontsize=15)\n",
    "plt.ylabel('N trips', fontsize=15)\n",
    "plt.xticks(np.arange(0, 241, step=10))\n",
    "plt.show()"
   ]
  },
  {
   "cell_type": "markdown",
   "metadata": {},
   "source": [
    "The plot has on the x axis the trip's duration (in minutes) and on the y axis the number of trips. From the performance of the function we can observe that in NYC the greatest number of trips have a duration about 6 minutes.  \n",
    "In fact it is clearly visible that the function is growing between 0 and 6 minutes, and the fuction is decreasing between 6 and  about 60 minutes and then it is constant. "
   ]
  },
  {
   "cell_type": "code",
   "execution_count": 19,
   "metadata": {},
   "outputs": [],
   "source": [
    "# We calculate the avarage number of trips for each month and duration in each borough in the whole period taken in analysis.\n",
    "# We sum the number of trips for each borough and duration slot for every month and then we divide each sum to the number of the months taken into \n",
    "# consideration in our analysis (number of the months taken into consideration in our analysis = 6)\n",
    "\n",
    "result = {}\n",
    "for i in duration_trip_borough: \n",
    "    for j in duration_trip_borough[i]: \n",
    "        if j not in result: \n",
    "            result[j] = duration_trip_borough[i][j]\n",
    "        else: \n",
    "            result[j] += duration_trip_borough[i][j]\n",
    "\n",
    "for i in result: \n",
    "    result[i] = result[i]//6"
   ]
  },
  {
   "cell_type": "markdown",
   "metadata": {},
   "source": [
    "We create an histogram that shows the number of trips, in percentage, for each borough and duration slot in NYC for the whole period in analysis."
   ]
  },
  {
   "cell_type": "code",
   "execution_count": 20,
   "metadata": {},
   "outputs": [
    {
     "data": {
      "text/plain": [
       "Text(0.5,1,'Number of trips, in percentage, for each borough and duration slot- From January to June 2018')"
      ]
     },
     "execution_count": 20,
     "metadata": {},
     "output_type": "execute_result"
    },
    {
     "data": {
      "image/png": "[encoded data removed]",
      "text/plain": [
       "<Figure size 1440x504 with 1 Axes>"
      ]
     },
     "metadata": {},
     "output_type": "display_data"
    }
   ],
   "source": [
    "result = pd.Series(result)\n",
    "ax = result.unstack().plot.bar(figsize =(20,7), fontsize = 15)\n",
    "ax.set_xlabel(\"Boroughs\",fontsize=15)\n",
    "ax.set_ylabel(\"Percentage of trips(%)\",fontsize=15)\n",
    "ax.legend(fontsize=12, title = 'Duration slot')\n",
    "ax.set_title(\"Number of trips, in percentage, for each borough and duration slot- From January to June 2018\", fontsize=15)"
   ]
  },
  {
   "cell_type": "markdown",
   "metadata": {},
   "source": [
    "This histogram has on the x axis the boroughs of NYC and on the y axis the percentage of trips. We can observe that for all boroughs, except for Queens, the most of the trips have duration less than 15 minutes (60% - 74%). Queens has a particular structure of trip's duration distribution compared to the others boroughs. In fact here the most of trips have duration between 16 and 30 minutues. The trips that have a duration more than 40 minutes are present to a greater extent in Queens and Staten Island. In EWR the trips that have a duration less than  15 minutes respresent almost all the trips (95%)."
   ]
  },
  {
   "cell_type": "code",
   "execution_count": 21,
   "metadata": {},
   "outputs": [
    {
     "data": {
      "text/plain": [
       "Bronx          [0-15]     60.0\n",
       "               [16-30]    24.0\n",
       "               [31-45]     9.0\n",
       "               [46-60]     3.0\n",
       "               [60+]       2.0\n",
       "Brooklyn       [0-15]     64.0\n",
       "               [16-30]    27.0\n",
       "               [31-45]     6.0\n",
       "               [46-60]     1.0\n",
       "               [60+]       0.0\n",
       "EWR            [0-15]     95.0\n",
       "               [16-30]     1.0\n",
       "               [31-45]     1.0\n",
       "               [46-60]     0.0\n",
       "               [60+]       0.0\n",
       "Manhattan      [0-15]     73.0\n",
       "               [16-30]    21.0\n",
       "               [31-45]     3.0\n",
       "               [46-60]     0.0\n",
       "               [60+]       0.0\n",
       "Queens         [0-15]     19.0\n",
       "               [16-30]    31.0\n",
       "               [31-45]    27.0\n",
       "               [46-60]    13.0\n",
       "               [60+]       7.0\n",
       "Staten Island  [0-15]     64.0\n",
       "               [16-30]    14.0\n",
       "               [31-45]     8.0\n",
       "               [46-60]     5.0\n",
       "               [60+]       7.0\n",
       "Unknown        [0-15]     72.0\n",
       "               [16-30]    20.0\n",
       "               [31-45]     4.0\n",
       "               [46-60]     1.0\n",
       "               [60+]       0.0\n",
       "dtype: float64"
      ]
     },
     "execution_count": 21,
     "metadata": {},
     "output_type": "execute_result"
    }
   ],
   "source": [
    "result"
   ]
  },
  {
   "cell_type": "markdown",
   "metadata": {},
   "source": [
    "### [RQ4]  _What is the most common way of payments?_\n",
    "\n",
    "The final goal of this request is to determinate which way of payment is most used, first overall NYC and then for each borough of NYC and whether the method of payment is correlated to the borough. \n",
    "\n",
    "The payment type are the following: \n",
    "\n",
    "1) Credit card\n",
    "\n",
    "2) Cash\n",
    "\n",
    "3) No charge\n",
    "\n",
    "4) Dispute\n",
    "\n",
    "5) Unknown \n",
    "\n",
    "6) Voided trip\n",
    "\n",
    "Before accomplishing the task we need to pass through the following steps:\n",
    "\n",
    "1. Obtain the data for the Taxis in NYC, starting from January 2018\n",
    "2. Keep only the trips belonging to the month in question (ie. January 2018)\n",
    "3. Merge between the data for the Taxis and the data for the taxi zone of NYC\n",
    "4. Compute the number of payments for each way of payments, first in NYC and then in each borough\n",
    "5. Repeat the previous steps for each month until June 2018\n",
    "6. Run Chi-squared test to see whether the method of payment is correlated to the borough"
   ]
  },
  {
   "cell_type": "code",
   "execution_count": 22,
   "metadata": {},
   "outputs": [],
   "source": [
    "n = 1\n",
    "while(n<7):\n",
    "    csv = 'yellow_tripdata_2018-0'+str(n)+'.csv'\n",
    "    \n",
    "    # Step 1: Obtain the data for the Taxis in NYC, starting from January 2018\n",
    "    \n",
    "    # The first thing we do is to import the csv file containing the data of Taxis in NYC, in order to have a dataset with all\n",
    "    # the informations. We import only the columns that interest us for our analysis. We parse the 'tpep_pickup_datetime' and\n",
    "    # 'tpep_pickup_datetime' columns as dates.\n",
    "\n",
    "    df_taxi = pd.read_csv(csv, usecols = [1,2,3,4,7,8,9,16], parse_dates = parse_dates, encoding = 'ISO-8859-1')\n",
    "    \n",
    "    # Step 2: Keep only the trips belonging to the month in question (ie. January 2018)\n",
    "    \n",
    "    # We clen the dataset. We drop the rows containig wrong values, as: different year from 2018, different month for the \n",
    "    # pickup datetime and dropoff datetime columns, payment type less than 1 and more than 6, N/A values in payment type column. \n",
    "    # We consider the trips at midnight as belonging to the day of pick up.\n",
    "\n",
    "    df_taxi = df_taxi[df_taxi['tpep_pickup_datetime'].dt.year == 2018]\n",
    "    df_taxi = df_taxi[df_taxi['tpep_pickup_datetime'].dt.month == n]\n",
    "    df_taxi = df_taxi[df_taxi['tpep_dropoff_datetime'].dt.year == 2018]\n",
    "    df_taxi = df_taxi[df_taxi['tpep_dropoff_datetime'].dt.month <= n+1]\n",
    "    df_taxi = df_taxi[df_taxi['payment_type'] >= 1]\n",
    "    df_taxi = df_taxi[df_taxi['payment_type'] <= 6]\n",
    "    df_taxi = df_taxi.dropna(subset=['payment_type'])\n",
    "    \n",
    "    # Step 3: Merge between the data for the Taxis and the data for the taxi zone of NYC\n",
    "    \n",
    "    # We perform a left join between the taxi dataset and the taxi zone dataset on 'PULocationID' and 'LocationId' columns, respectively \n",
    "\n",
    "    df_join = pd.merge(df_taxi,df_zone, how = 'left', left_on=['PULocationID'], right_on=['LocationID'])\n",
    "    \n",
    "    del df_taxi\n",
    "    \n",
    "    # Step 4: Compute the number of payments for each way of payments, first in NYC and then in each borough\n",
    "    \n",
    "    # We only consider the columns borough and payment type \n",
    "    \n",
    "    df_payment = df_join[['Borough', 'payment_type']]\n",
    "    \n",
    "    # We execute a groupby operation on payment type and then we count the number of payment with the same type in NYC \n",
    "    \n",
    "    payment_ny = df_payment.groupby('payment_type').count()\n",
    "    payment_ny.columns = ['n_payments']\n",
    "    \n",
    "    # We save our result in a dictionary (called payment_ny_global) containing the number of payments for each month and payment type\n",
    "    \n",
    "    payment_ny_global[month[n-1]] = payment_ny['n_payments'].to_dict()\n",
    "    \n",
    "    del payment_ny\n",
    "    \n",
    "    # We execute a groupby operation on borough and payment type and then we count the number of payment with the same type in\n",
    "    # each borough\n",
    "    \n",
    "    payment_borough = df_payment.groupby(['Borough','payment_type']).payment_type.count()\n",
    "    \n",
    "    del df_payment\n",
    "\n",
    "    payment_borough = pd.DataFrame(payment_borough)\n",
    "    payment_borough.columns = ['n_payments']\n",
    "    \n",
    "    # We create a new dictionary (called total_payment_borough) that has as keys the boroughs and as values the total number\n",
    "    # of payment for the month in analysis.\n",
    "    \n",
    "    payment_bourough_dict = payment_borough.to_dict()['n_payments']\n",
    "    total_payment_borough = {}\n",
    "    for i in payment_bourough_dict:\n",
    "        if i[0] not in total_payment_borough:\n",
    "            total_payment_borough[i[0]] = payment_bourough_dict[i]\n",
    "        else: \n",
    "             total_payment_borough[i[0]] += payment_bourough_dict[i]\n",
    "    \n",
    "    # We calculate the percentage of payments in each borough and payment type. We divide the number of payments of each borough\n",
    "    # and payment type to the total number of payments for each borough \n",
    "    \n",
    "    d_percentage = {}\n",
    "    for i in payment_bourough_dict: \n",
    "        d_percentage[i] = round((payment_bourough_dict[i] / total_payment_borough[i[0]])*100,1)\n",
    "    \n",
    "    payment_borough_percentage_global[month[n-1]] = d_percentage\n",
    "    payment_borough_global[month[n-1]] = payment_borough['n_payments'].to_dict()\n",
    "    \n",
    "    # Step 5: Repeat the previous steps for each month until June 2018\n",
    "    \n",
    "    n += 1"
   ]
  },
  {
   "cell_type": "code",
   "execution_count": 23,
   "metadata": {},
   "outputs": [],
   "source": [
    "# We calculate the avarage total of payment for NYC in the whole period taken in analysis.\n",
    "# We sum the number of payments for every month and then we divide each sum to the number of the months taken into \n",
    "# consideration in our analysis (number of the months taken into consideration in our analysis = 6)\n",
    "\n",
    "result = {}\n",
    "for i in payment_ny_global: \n",
    "    for j in payment_ny_global[i]: \n",
    "        if j not in result: \n",
    "            result[j] = payment_ny_global[i][j]\n",
    "        else: \n",
    "            result[j] += payment_ny_global[i][j]\n",
    "            \n",
    "for i in result: \n",
    "    result[i] = result[i]//6"
   ]
  },
  {
   "cell_type": "markdown",
   "metadata": {},
   "source": [
    "We create an histogram that shows the number of payments for each way of payment in NYC for the whole period in analysis."
   ]
  },
  {
   "cell_type": "code",
   "execution_count": 24,
   "metadata": {
    "scrolled": false
   },
   "outputs": [
    {
     "data": {
      "text/plain": [
       "Text(0.5,1,'Number of payments for each way of payment, New York - From January to June 2018')"
      ]
     },
     "execution_count": 24,
     "metadata": {},
     "output_type": "execute_result"
    },
    {
     "data": {
      "image/png": "[encoded data removed]",
      "text/plain": [
       "<Figure size 1440x576 with 1 Axes>"
      ]
     },
     "metadata": {},
     "output_type": "display_data"
    }
   ],
   "source": [
    "ax = pd.Series(result).plot(kind='bar',figsize=(20,8),legend=False, fontsize=15, width = 0.3)\n",
    "ax.set_xlabel(\"Payment type\",fontsize=15)\n",
    "ax.set_ylabel(\"N payments\",fontsize=15)\n",
    "ax.set_title('Number of payments for each way of payment, New York - From January to June 2018', fontsize=15)"
   ]
  },
  {
   "cell_type": "code",
   "execution_count": 25,
   "metadata": {
    "scrolled": true
   },
   "outputs": [
    {
     "data": {
      "text/plain": [
       "1    6261021\n",
       "2    2665560\n",
       "3      47553\n",
       "4      12867\n",
       "dtype: int64"
      ]
     },
     "execution_count": 25,
     "metadata": {},
     "output_type": "execute_result"
    }
   ],
   "source": [
    "pd.Series(result)"
   ]
  },
  {
   "cell_type": "markdown",
   "metadata": {},
   "source": [
    "This histogram has on the x axis the payment type and on the y axis the number of payments in NYC. We can observe that the most used payment type is the credit card (about 6261021) . The second one is with cash.  "
   ]
  },
  {
   "cell_type": "code",
   "execution_count": 26,
   "metadata": {},
   "outputs": [],
   "source": [
    "# We calculate the avarage number of payments in percentage for each borough and payment type in the whole period taken in analysis. \n",
    "# For each borough and payment type we sum the number of payments of every month and then we divide each sum to the number of the \n",
    "# months taken into consideration in our analysis (number of the months taken into consideration in our analysis = 6)\n",
    "\n",
    "result = {}\n",
    "for i in payment_borough_percentage_global: \n",
    "    for j in payment_borough_percentage_global[i]: \n",
    "        if j not in result: \n",
    "            result[j] = payment_borough_percentage_global[i][j]\n",
    "        else: \n",
    "            result[j] += payment_borough_percentage_global[i][j]\n",
    "            \n",
    "for i in result: \n",
    "    result[i] = result[i]//6"
   ]
  },
  {
   "cell_type": "markdown",
   "metadata": {},
   "source": [
    "We create an histogram that shows the number of payments, in percentage, for each borough and way of payment in NYC for the whole period in analysis."
   ]
  },
  {
   "cell_type": "code",
   "execution_count": 27,
   "metadata": {
    "scrolled": false
   },
   "outputs": [
    {
     "data": {
      "text/plain": [
       "Text(0.5,1,'Number of payments, in percentage, for each borough and way of payment - From January to June 2018')"
      ]
     },
     "execution_count": 27,
     "metadata": {},
     "output_type": "execute_result"
    },
    {
     "data": {
      "image/png": "[encoded data removed]",
      "text/plain": [
       "<Figure size 1440x504 with 1 Axes>"
      ]
     },
     "metadata": {},
     "output_type": "display_data"
    }
   ],
   "source": [
    "s = pd.Series(result)\n",
    "ax = s.unstack().plot.bar(figsize =(20,7), fontsize = 15)\n",
    "ax.set_xlabel(\"Boroughs\",fontsize=15)\n",
    "ax.set_ylabel(\"Percentage (%) of payments\",fontsize=15)\n",
    "ax.legend(fontsize=12, title = \"Payment type\")\n",
    "ax.set_title(\"Number of payments, in percentage, for each borough and way of payment - From January to June 2018\", fontsize=15)"
   ]
  },
  {
   "cell_type": "markdown",
   "metadata": {},
   "source": [
    "This histogram has on the x axis the borough and on the y axis the percentage of payments in NYC. We can observe the most important way of payment are by credit card and cash for all borough except for Bronx where the payments by credit card (48%) and cash (47%) are almost the same. "
   ]
  },
  {
   "cell_type": "code",
   "execution_count": 28,
   "metadata": {
    "scrolled": false
   },
   "outputs": [
    {
     "data": {
      "text/plain": [
       "Bronx          1    48.0\n",
       "               2    47.0\n",
       "               3     2.0\n",
       "               4     0.0\n",
       "Brooklyn       1    64.0\n",
       "               2    33.0\n",
       "               3     1.0\n",
       "               4     0.0\n",
       "EWR            1    78.0\n",
       "               2    14.0\n",
       "               3     5.0\n",
       "               4     1.0\n",
       "Manhattan      1    69.0\n",
       "               2    29.0\n",
       "               3     0.0\n",
       "               4     0.0\n",
       "Queens         1    68.0\n",
       "               2    29.0\n",
       "               3     1.0\n",
       "               4     0.0\n",
       "Staten Island  1    52.0\n",
       "               2    39.0\n",
       "               3     6.0\n",
       "               4     1.0\n",
       "Unknown        1    68.0\n",
       "               2    29.0\n",
       "               3     1.0\n",
       "               4     0.0\n",
       "dtype: float64"
      ]
     },
     "execution_count": 28,
     "metadata": {},
     "output_type": "execute_result"
    }
   ],
   "source": [
    "pd.Series(result)"
   ]
  },
  {
   "cell_type": "code",
   "execution_count": 29,
   "metadata": {},
   "outputs": [
    {
     "data": {
      "text/html": [
       "<div>\n",
       "<style scoped>\n",
       "    .dataframe tbody tr th:only-of-type {\n",
       "        vertical-align: middle;\n",
       "    }\n",
       "\n",
       "    .dataframe tbody tr th {\n",
       "        vertical-align: top;\n",
       "    }\n",
       "\n",
       "    .dataframe thead th {\n",
       "        text-align: right;\n",
       "    }\n",
       "</style>\n",
       "<table border=\"1\" class=\"dataframe\">\n",
       "  <thead>\n",
       "    <tr style=\"text-align: right;\">\n",
       "      <th></th>\n",
       "      <th>Bronx</th>\n",
       "      <th>Brooklyn</th>\n",
       "      <th>EWR</th>\n",
       "      <th>Manhattan</th>\n",
       "      <th>Queens</th>\n",
       "      <th>Staten Island</th>\n",
       "      <th>Unknown</th>\n",
       "    </tr>\n",
       "  </thead>\n",
       "  <tbody>\n",
       "    <tr>\n",
       "      <th>1</th>\n",
       "      <td>4631</td>\n",
       "      <td>73642</td>\n",
       "      <td>506</td>\n",
       "      <td>5697766</td>\n",
       "      <td>385186</td>\n",
       "      <td>72</td>\n",
       "      <td>99216</td>\n",
       "    </tr>\n",
       "    <tr>\n",
       "      <th>2</th>\n",
       "      <td>4357</td>\n",
       "      <td>38418</td>\n",
       "      <td>91</td>\n",
       "      <td>2413236</td>\n",
       "      <td>166769</td>\n",
       "      <td>53</td>\n",
       "      <td>42633</td>\n",
       "    </tr>\n",
       "    <tr>\n",
       "      <th>3</th>\n",
       "      <td>252</td>\n",
       "      <td>1464</td>\n",
       "      <td>36</td>\n",
       "      <td>37799</td>\n",
       "      <td>6215</td>\n",
       "      <td>8</td>\n",
       "      <td>1775</td>\n",
       "    </tr>\n",
       "    <tr>\n",
       "      <th>4</th>\n",
       "      <td>60</td>\n",
       "      <td>320</td>\n",
       "      <td>7</td>\n",
       "      <td>10602</td>\n",
       "      <td>1489</td>\n",
       "      <td>2</td>\n",
       "      <td>385</td>\n",
       "    </tr>\n",
       "  </tbody>\n",
       "</table>\n",
       "</div>"
      ],
      "text/plain": [
       "   Bronx  Brooklyn  EWR  Manhattan  Queens  Staten Island  Unknown\n",
       "1   4631     73642  506    5697766  385186             72    99216\n",
       "2   4357     38418   91    2413236  166769             53    42633\n",
       "3    252      1464   36      37799    6215              8     1775\n",
       "4     60       320    7      10602    1489              2      385"
      ]
     },
     "execution_count": 29,
     "metadata": {},
     "output_type": "execute_result"
    }
   ],
   "source": [
    "# We calculate the avarage number of payments for each borough and payment type in the whole period taken in analysis. \n",
    "# For each borough and payment type we sum the number of payments of every month and then we divide each sum to the number of the \n",
    "# months taken into consideration in our analysis (number of the months taken into consideration in our analysis = 6)\n",
    "\n",
    "result = {}\n",
    "for i in payment_borough_global: \n",
    "    for j in payment_borough_global[i]: \n",
    "        if j not in result: \n",
    "            result[j] = payment_borough_global[i][j]\n",
    "        else: \n",
    "            result[j] += payment_borough_global[i][j]\n",
    "            \n",
    "for i in result: \n",
    "    result[i] = result[i]//6\n",
    "\n",
    "temp = {}\n",
    "for i in result:\n",
    "    if i[0] not in temp:\n",
    "        temp[i[0]] = {i[1] : result[i]}\n",
    "    else:\n",
    "        temp[i[0]].update({i[1]: result[i]})\n",
    "        \n",
    "frame = pd.DataFrame(temp)\n",
    "frame"
   ]
  },
  {
   "cell_type": "code",
   "execution_count": 30,
   "metadata": {},
   "outputs": [
    {
     "name": "stdout",
     "output_type": "stream",
     "text": [
      "Chi2: 11957.876753995915\n",
      "Pvalue: 0.0\n"
     ]
    }
   ],
   "source": [
    "# Step 6: Run Chi-squared test to see whether the method of payment is correlated to the borough\n",
    "\n",
    "chi2, p, dof, expected = chi2_contingency(frame)\n",
    "chi2\n",
    "print(\"Chi2:\",chi2)\n",
    "print(\"Pvalue:\",p)"
   ]
  },
  {
   "cell_type": "markdown",
   "metadata": {},
   "source": [
    "Using the Chi-squared test we wont to see whether the method of payment is correlated to the borough. \n",
    "We make the following hypotheses: \n",
    "\n",
    "H_0 = {the method of payment is NOT correlated to the borough}\n",
    "\n",
    "H_1 = {the method of payment is correlated to the borough} \n",
    "\n",
    "**N.B**: The p-value is printed as 0.0. This should be interpreted as p< 0.001, and not be taken as exactly 0\n",
    "\n",
    "After our analysis we obtain a Chi-squared about 11958 with an associated p < 0.01.\n",
    "\n",
    "The null hypothesis is rejected, since p < 0.001, and a conclusion is made that the method of payment is correlated to the borough. \n"
   ]
  },
  {
   "cell_type": "markdown",
   "metadata": {},
   "source": [
    "### [RQ5]  _Does a long distance correlate with the duration of the trip on average?_\n",
    "\n",
    "The final goal of this request is to determinate if there is a dependence between distance and duration of the trip for NYC. \n",
    "\n",
    "Before accomplishing the task we need to pass through the following steps:\n",
    "\n",
    "1. Obtain the data for the Taxis in NYC, starting from January 2018\n",
    "2. Keep only the trips belonging to the month in question (ie. January 2018)\n",
    "3. Merge between the data for the Taxis and the data for the taxi zone of NYC\n",
    "4. Determinate a dependence between distance and duration of the trip\n",
    "5. Repeat the previous steps for each month until June 2018"
   ]
  },
  {
   "cell_type": "code",
   "execution_count": 31,
   "metadata": {},
   "outputs": [],
   "source": [
    "n = 1\n",
    "while(n<7):\n",
    "    csv_path = 'yellow_tripdata_2018-0'+str(n)+'.csv'\n",
    "    \n",
    "    # Step 1: Obtain the data for the Taxis in NYC, starting from January 2018\n",
    "    \n",
    "    # The first thing we do is to import the csv file containing the data of Taxis in NYC, in order to have a dataset with all\n",
    "    # the informations. We import only the columns that interest us for our analysis. We parse the 'tpep_pickup_datetime' and\n",
    "    # 'tpep_pickup_datetime' columns as dates.\n",
    "    \n",
    "    df_taxi= pd.read_csv(csv_path, usecols = [1,2,3,4,7,8,9,16], parse_dates = parse_dates, encoding = 'ISO-8859-1')\n",
    "    \n",
    "    # Step 2: Keep only the trips belonging to the month in question (ie. January 2018)\n",
    "    \n",
    "    # We clen the dataset. We drop the rows containig wrong values, as: different year from 2018, different month for the \n",
    "    # pickup datetime and dropoff datetime columns, same value in pickup_datetime and dropoff_datetime columns, trip distance\n",
    "    # equal to 0. We decide to keep only the trips with maximum distance of 200 miles. \n",
    "    # We consider the trips at midnight as belonging to the day of pick up.\n",
    "    \n",
    "    df_taxi = df_taxi[df_taxi['tpep_pickup_datetime'].dt.year == 2018]\n",
    "    df_taxi = df_taxi[df_taxi['tpep_pickup_datetime'].dt.month == n]\n",
    "    df_taxi = df_taxi[df_taxi['tpep_dropoff_datetime'].dt.year == 2018]\n",
    "    df_taxi = df_taxi[df_taxi['tpep_dropoff_datetime'].dt.month <= n+1]\n",
    "    df_taxi = df_taxi[df_taxi['tpep_dropoff_datetime'] != df_taxi['tpep_pickup_datetime']]\n",
    "    df_taxi = df_taxi[df_taxi['trip_distance'] != 0.00]\n",
    "    df_taxi = df_taxi[df_taxi['trip_distance'] <= 200]\n",
    "    \n",
    "    # Step 3: Merge between the data for the Taxis and the data for the taxi zone of NYC\n",
    "    \n",
    "    # We perform a left join between the taxi dataset and the taxi zone dataset on 'PULocationID' and 'LocationId' columns, respectively \n",
    "\n",
    "    df_join = pd.merge(df_taxi,df_zone, how = 'left', left_on=['PULocationID'], right_on=['LocationID'])\n",
    "    \n",
    "    del df_taxi\n",
    "    \n",
    "    # Step 4: Determinate a dependence between distance and duration of the trip\n",
    "    \n",
    "    # The first thing to do is to create a new column in our dataset where we put the difference between dropoff datetime and \n",
    "    # pickup datetime that is the trip's duration. We drop the rows that have duration more than 1 day and negative duration.\n",
    "    # We decide to keep only the trips with maximum duration of 4 hours. \n",
    "    \n",
    "    df_join['duration'] = df_join['tpep_dropoff_datetime']-df_join['tpep_pickup_datetime']\n",
    "    df_join = df_join[df_join['duration'].dt.days == 0]\n",
    "    df_join = df_join[df_join['duration'].dt.seconds <= (3600*4)]\n",
    "\n",
    "    # First we considered the trip's duration in seconds\n",
    "    \n",
    "    d_minutes = df_join['duration'].dt.seconds\n",
    "    d_minutes = pd.DataFrame(d_minutes)\n",
    "    \n",
    "    # Then we commute the trip's duration from seconds to minutes\n",
    "        \n",
    "    d_minutes = d_minutes['duration'].apply(minutes)\n",
    "    \n",
    "    # We create a new Dataset with 2 columns: duration and trip distance.\n",
    "    \n",
    "    distance_duration_trip = pd.DataFrame(d_minutes)\n",
    "    distance_duration_trip['trip_distance'] = df_join['trip_distance']\n",
    "    \n",
    "    # We save our results in a dataset containing only duration and distance of each trips\n",
    "    \n",
    "    df_global = df_global.append(distance_duration_trip)\n",
    "        \n",
    "    del df_join\n",
    "    del d_minutes\n",
    "    \n",
    "    # Step 5: Repeat the previous steps for each month until June 2018\n",
    "    \n",
    "    n += 1"
   ]
  },
  {
   "cell_type": "markdown",
   "metadata": {},
   "source": [
    "We create a plot that shows the dipendence between distance and duration of a trip in NYC for the whole period in analysis."
   ]
  },
  {
   "cell_type": "code",
   "execution_count": 32,
   "metadata": {},
   "outputs": [
    {
     "data": {
      "image/png": "[encoded data removed]",
      "text/plain": [
       "<Figure size 1440x576 with 1 Axes>"
      ]
     },
     "metadata": {},
     "output_type": "display_data"
    }
   ],
   "source": [
    "df_global['duration'] = pd.to_numeric(df_global['duration'])\n",
    "\n",
    "x = df_global['duration'].tolist()\n",
    "y = df_global['trip_distance'].tolist()\n",
    "gradient, intercept, r_value, p_value, std_err = stats.linregress(x,y)\n",
    "mn=np.min(x)\n",
    "mx=np.max(x)\n",
    "x1=np.linspace(mn,mx)\n",
    "y1=gradient*x1+intercept\n",
    "fig, ax = plt.subplots(figsize=(20,8))\n",
    "ax.tick_params(labelsize=15)\n",
    "plt.xlabel('Duration (m)', fontsize=15)\n",
    "plt.ylabel('Distance (miles)', fontsize=15)\n",
    "plt.plot(x,y,'ob',markersize= 3)\n",
    "plt.plot(x1,y1,'-r')\n",
    "plt.show()"
   ]
  },
  {
   "cell_type": "code",
   "execution_count": 33,
   "metadata": {},
   "outputs": [],
   "source": [
    "pearson = round(df_global['duration'].corr(df_global['trip_distance']),4)"
   ]
  },
  {
   "cell_type": "code",
   "execution_count": 34,
   "metadata": {},
   "outputs": [
    {
     "name": "stdout",
     "output_type": "stream",
     "text": [
      "Il coefficiente di Pearson è: 0.7983\n"
     ]
    }
   ],
   "source": [
    "print('Il coefficiente di Pearson è: ' + str(pearson))"
   ]
  },
  {
   "cell_type": "markdown",
   "metadata": {},
   "source": [
    "A basic property of Pearson's rules is that its possible range is from -1 to 1. A correlation of -1 means a perfect negative linear relationship, a correlation of 0 means no linear relationship, and a correlation of 1 means a perfect linear relationship. Now, In our analysis we obtain that the Pearson Coefficient is equal to 0.7983 it's means that since it is close to 1, there is a positive linear relationship between trip's duration in minutes (X) and trip's distance (Y) in miles. We know that X and Y have a positive correlation when they grow up together and it's in part visible in our plot. "
   ]
  },
  {
   "cell_type": "markdown",
   "metadata": {},
   "source": [
    "## [CRQ2]: _Visualize Taxis movements!_ "
   ]
  },
  {
   "cell_type": "markdown",
   "metadata": {},
   "source": [
    "### Calculating count for each month"
   ]
  },
  {
   "cell_type": "markdown",
   "metadata": {},
   "source": [
    "For calculating for the initial (Pick Up location) just change the name of column to \"PULocationID\"\n",
    "and change the file name to save from \"final\" to \"initial\""
   ]
  },
  {
   "cell_type": "code",
   "execution_count": 37,
   "metadata": {},
   "outputs": [
    {
     "name": "stdout",
     "output_type": "stream",
     "text": [
      "yellow_tripdata_2018-01.csv\n",
      "yellow_tripdata_2018-02.csv\n",
      "yellow_tripdata_2018-03.csv\n",
      "yellow_tripdata_2018-04.csv\n",
      "yellow_tripdata_2018-05.csv\n",
      "yellow_tripdata_2018-06.csv\n"
     ]
    }
   ],
   "source": [
    "# processing each file individually\n",
    "for i in range(1,7):\n",
    "    file_name = 'yellow_tripdata_2018-0'+str(i)+'.csv'\n",
    "    print(file_name)\n",
    "    # read data from csv\n",
    "    df = pd.read_csv(file_name)\n",
    "    # process the data frame, count the number of start trips for each zone\n",
    "    zone_counts = df['DOLocationID'].value_counts()\n",
    "    zone_counts.sort_index(inplace=True)\n",
    "    # convert zone_counts from series to DataFrame\n",
    "    zone_count_df = pd.DataFrame(data = zone_counts, dtype = np.int64)\n",
    "    zone_count_df.reset_index(level=0, inplace=True)\n",
    "    zone_count_df.columns = ['DOLocationID', 'Count ']\n",
    "    # write result to csv\n",
    "    zone_count_df.to_csv('zone_count_yellow_tripdata_final_location_2018-0'+str(i)+'.csv')\n",
    "    # Free the memory after finishing the data frame\n",
    "    del [[df, zone_counts, zone_count_df]]\n",
    "    df = None\n",
    "    zone_counts = None\n",
    "    zone_count_df = None"
   ]
  },
  {
   "cell_type": "code",
   "execution_count": 54,
   "metadata": {},
   "outputs": [],
   "source": [
    "number_of_files = 6\n",
    "# initial data frame for summation\n",
    "##dict1 = {'PULocationID': list(range(1,266)), 'Count': 0.0}\n",
    "##df_add = pd.DataFrame(dict1)\n",
    "##df_add.index = df_add['PULocationID']\n",
    "##df_add.info()\n",
    "\n",
    "\n",
    "# Add first two data frames\n",
    "df1 = pd.read_csv('zone_count_yellow_tripdata_final_location_2018-0'+str(1)+'.csv')\n",
    "df2 = pd.read_csv('zone_count_yellow_tripdata_final_location_2018-0'+str(2)+'.csv')\n",
    "# reset index of two data frames to use PULocationID as index\n",
    "df1.index = df1['DOLocationID']\n",
    "df2.index = df2['DOLocationID']\n",
    "# delete previous index\n",
    "del df1['Unnamed: 0']\n",
    "del df2['Unnamed: 0']\n",
    "# initial addition\n",
    "df_add = df1.add(df2, fill_value = 0)"
   ]
  },
  {
   "cell_type": "markdown",
   "metadata": {},
   "source": [
    "Change final to initial for calculating the initial location and \"DOLocationID\" to \"PULocationID\""
   ]
  },
  {
   "cell_type": "code",
   "execution_count": 56,
   "metadata": {},
   "outputs": [],
   "source": [
    "# read all other files\n",
    "for i in range(3,number_of_files+1):\n",
    "    df = pd.read_csv('zone_count_yellow_tripdata_final_location_2018-0'+str(i)+'.csv')\n",
    "    #reset index\n",
    "    df.index = df['DOLocationID']\n",
    "    # delete previous index\n",
    "    del df['Unnamed: 0']\n",
    "    # perform addition to df1\n",
    "    df_add = df_add.add(df, fill_value = 0)\n",
    "    # clear after each step\n",
    "    del df\n",
    "    df = None"
   ]
  },
  {
   "cell_type": "markdown",
   "metadata": {},
   "source": [
    "Change from DOLocationID to PULocationID for calculation of initial location"
   ]
  },
  {
   "cell_type": "code",
   "execution_count": 57,
   "metadata": {
    "scrolled": false
   },
   "outputs": [],
   "source": [
    "# reset PULocation values after the overall summation\n",
    "df_add['DOLocationID'] = df_add.index\n",
    "\n",
    "# delete number of trips for unknown locations\n",
    "df_add.drop([264, 265], inplace = True)"
   ]
  },
  {
   "cell_type": "markdown",
   "metadata": {},
   "source": [
    "Change name of file to save the percentage from final to initial"
   ]
  },
  {
   "cell_type": "code",
   "execution_count": 59,
   "metadata": {},
   "outputs": [
    {
     "name": "stdout",
     "output_type": "stream",
     "text": [
      "total sum of all trips =  53050027.0\n"
     ]
    }
   ],
   "source": [
    "# rename columns \n",
    "df_add.columns = ['DOLocationID', 'Count']\n",
    "# calculate percentage of trips per location\n",
    "total_trips = np.sum(df_add['Count'])\n",
    "#print(\"Total Count of Each zone\", sum_count)\n",
    "print('total sum of all trips = ', total_trips)\n",
    "# create percentage column\n",
    "df_add['percent'] = np.round((df_add['Count'] / total_trips) * 100, 5)"
   ]
  },
  {
   "cell_type": "markdown",
   "metadata": {},
   "source": [
    "Change name of file to save the percentage from final to initial"
   ]
  },
  {
   "cell_type": "code",
   "execution_count": 60,
   "metadata": {},
   "outputs": [],
   "source": [
    "# write data to a file\n",
    "df_add.to_csv('percentage of final location trips.csv')"
   ]
  },
  {
   "cell_type": "markdown",
   "metadata": {},
   "source": [
    "# Map "
   ]
  },
  {
   "cell_type": "markdown",
   "metadata": {},
   "source": [
    "Always run this code when want to create and view a map"
   ]
  },
  {
   "cell_type": "code",
   "execution_count": 61,
   "metadata": {},
   "outputs": [],
   "source": [
    "nyc_map_json = 'taxi_zones.json'\n",
    "geo_json_data = json.load(open(nyc_map_json))\n",
    "\n",
    "# use df_add or read the file percentage of trips.csv\n",
    "\n",
    "nyc_map = folium.Map(location=[40.730610, -73.935242], tiles='cartodbpositron',zoom_start=10)"
   ]
  },
  {
   "cell_type": "code",
   "execution_count": 63,
   "metadata": {},
   "outputs": [],
   "source": [
    "# this for initial location\n",
    "import os\n",
    "nyc_map.choropleth(geo_data=nyc_map_json, data=df_add,\n",
    "             columns=['DOLocationID', 'percent'],\n",
    "             key_on='feature.properties.LocationID',\n",
    "             fill_color='YlGn', fill_opacity=0.4, line_opacity=0.2,\n",
    "             legend_name='Rate of Pick Up (%)')\n",
    "nyc_map.save(os.path.join('initial map.html'))"
   ]
  },
  {
   "cell_type": "markdown",
   "metadata": {},
   "source": [
    "Run this code only when working with initial location"
   ]
  },
  {
   "cell_type": "markdown",
   "metadata": {},
   "source": [
    "# Notes about the initial location trips"
   ]
  },
  {
   "cell_type": "markdown",
   "metadata": {},
   "source": [
    "We can notice that Manhattan has the largest number of trips, also two airports, JFK and LaGuarida which is normal for airports as they are an active connection point"
   ]
  },
  {
   "cell_type": "markdown",
   "metadata": {},
   "source": [
    "Run this cell of code only when you work for final location"
   ]
  },
  {
   "cell_type": "code",
   "execution_count": 64,
   "metadata": {},
   "outputs": [],
   "source": [
    "# this for final location\n",
    "nyc_map.choropleth(geo_data=nyc_map_json, data=df_add,\n",
    "             columns=['DOLocationID', 'percent'],\n",
    "             key_on='feature.properties.LocationID',\n",
    "             fill_color='YlGn', fill_opacity=0.4, line_opacity=0.2,\n",
    "             legend_name='Rate of left off (%)')\n",
    "nyc_map.save(os.path.join('initial_map.html'))"
   ]
  },
  {
   "cell_type": "markdown",
   "metadata": {},
   "source": [
    "# Notes About Left Off Location/zones"
   ]
  },
  {
   "cell_type": "markdown",
   "metadata": {},
   "source": [
    "As can be seen from the map that Manhattan Area has the biggest number of trips among all NYC, also Bronx has one zone of largest number of trips."
   ]
  },
  {
   "cell_type": "markdown",
   "metadata": {},
   "source": [
    "## [CRQ1]: Does the fare for mile change across NY's borough?\n",
    "\n",
    "For this question we analized only January."
   ]
  },
  {
   "cell_type": "code",
   "execution_count": 1,
   "metadata": {},
   "outputs": [],
   "source": [
    "import pandas as pd\n",
    "import numpy as np\n",
    "from scipy import stats"
   ]
  },
  {
   "cell_type": "code",
   "execution_count": 2,
   "metadata": {},
   "outputs": [],
   "source": [
    "January = pd.read_csv(\"C://Users/Francesco/Desktop/Open data NYC Yellow cab/yellow_tripdata_2018-01.csv\", usecols = [1,2,4,5,7,8,10,11,12,13,14,15,16], encoding = 'ISO-8859-1')"
   ]
  },
  {
   "cell_type": "code",
   "execution_count": 3,
   "metadata": {},
   "outputs": [],
   "source": [
    "df_taxi_zone = pd.read_csv(\"C://Users/Francesco/Desktop/DATI PULITI/taxi _zone_lookup.csv\", usecols = [0,1], encoding = 'ISO-8859-1')"
   ]
  },
  {
   "cell_type": "code",
   "execution_count": 4,
   "metadata": {},
   "outputs": [],
   "source": [
    "#delte wrong years and months\n",
    "January['new_date_start_column'] = pd.to_datetime(January['tpep_pickup_datetime']).dt.year#make a new column with only the year\n",
    "year_start_null = January[January['new_date_start_column'] != 2018] #select all the rows with no 2018 year\n",
    "January.drop(year_start_null.index, axis =0, inplace = True)#delete the rows\n",
    "\n",
    "January['new_date_arrive_column'] = pd.to_datetime(January['tpep_dropoff_datetime']).dt.year#make a new column with only the year\n",
    "year_arrive_null = January[January['new_date_arrive_column'] != 2018]#select all the rows with no 2018 year\n",
    "January.drop(year_arrive_null.index, axis = 0, inplace = True)#delete rows\n",
    "\n",
    "January['new_date_start_column_month'] = pd.to_datetime(January['tpep_pickup_datetime']).dt.month#make new column with only month\n",
    "month_start_null = January[January['new_date_start_column_month'] != 1]#keep only wrong rows\n",
    "January.drop(month_start_null.index, axis = 0, inplace = True)#delete rows\n",
    "#delete the 3 columns above\n",
    "January.drop(['new_date_start_column', 'new_date_arrive_column', 'new_date_start_column_month'], axis = 1, inplace = True)"
   ]
  },
  {
   "cell_type": "code",
   "execution_count": 5,
   "metadata": {},
   "outputs": [],
   "source": [
    "# drop 0.00 distance\n",
    "zero_values= January[January['trip_distance'] == 0.00]\n",
    "January.drop(zero_values.index, axis = 0, inplace = True)\n",
    "\n",
    "# debug \"fare_amount\" < 0.00\n",
    "January.loc[January.fare_amount < 0, 'fare_amount'] = January['fare_amount'] * (-1)\n",
    "#con \"loc\" mi seleziono solamente le righe che hanno valori negativi e dopo le sostituisco.\n",
    "#lo faccio solo con il \"fare_amount\" perhé non mi interessa, per ora, andare a vedere anche il \"total_amount\"\n",
    "\n",
    "# delete RatecodeID #99\n",
    "#there're 4 values that have a wrong Ratecode, so we decided to exclude them from the analysis\n",
    "code_99 = January[January.RatecodeID == 99]\n",
    "January.drop(code_99.index, axis = 0, inplace = True)"
   ]
  },
  {
   "cell_type": "markdown",
   "metadata": {},
   "source": [
    "# delete the inizial charge\n",
    "\n",
    "if we wanna realy now the effective price per miles, first of all we need to delete the \"The Initial Charge\", that depens on the RatecodeID:\n",
    "\n",
    "- RatecodeID 1 = 2.5 dollars\n",
    "- RatecodeID 2 = 52 dollars\n",
    "- RatecodeID 3 = 20 dollars\n",
    "- RatecodeID 4 = 2.5 dollars\n",
    "- RatecodeID 5 = the \"fare_amount\" is negotiated between the driver and the passengers\n",
    "- RatecodeID 6 = the price is based on the number of peopole on the taxi"
   ]
  },
  {
   "cell_type": "code",
   "execution_count": 6,
   "metadata": {},
   "outputs": [],
   "source": [
    "January.loc[January.RatecodeID == 1, 'fare_amount'] = January.fare_amount - 2.5 #Ratecode 1\n",
    "January.loc[January.RatecodeID == 2, 'fare_amount'] = January.fare_amount - 52  #Ratecode 2\n",
    "January.loc[January.RatecodeID == 3, 'fare_amount'] = January.fare_amount - 20  #Ratecode 3\n",
    "January.loc[January.RatecodeID == 4, 'fare_amount'] = January.fare_amount - 2.5 #Ratecode 4"
   ]
  },
  {
   "cell_type": "code",
   "execution_count": 6,
   "metadata": {},
   "outputs": [],
   "source": [
    "January.loc[January.RatecodeID == 1, 'fare_amount'] = January.fare_amount - 2.5 #Ratecode 1\n",
    "January.loc[January.RatecodeID == 2, 'fare_amount'] = January.fare_amount - 52  #Ratecode 2\n",
    "January.loc[January.RatecodeID == 3, 'fare_amount'] = January.fare_amount - 20  #Ratecode 3\n",
    "January.loc[January.RatecodeID == 4, 'fare_amount'] = January.fare_amount - 2.5 #Ratecode 4"
   ]
  },
  {
   "cell_type": "code",
   "execution_count": 7,
   "metadata": {},
   "outputs": [],
   "source": [
    "# \"fare_amount\" <= 0.00 delete\n",
    "#we need to dalete those values because it doesn't make sence having fare_amount negative or equal to zero\n",
    "zero_amount = January[January['fare_amount'] <= 0.00]\n",
    "January.drop(zero_amount.index, axis = 0, inplace = True)"
   ]
  },
  {
   "cell_type": "markdown",
   "metadata": {},
   "source": [
    "# I PART"
   ]
  },
  {
   "cell_type": "markdown",
   "metadata": {},
   "source": [
    "# I.1) Compute price per mile per each trip\n"
   ]
  },
  {
   "cell_type": "code",
   "execution_count": 9,
   "metadata": {},
   "outputs": [],
   "source": [
    "January['price_per_mile'] = January['fare_amount']/January['trip_distance']\n",
    "#define a new serie colled 'price_per_value' where each value represents the price per mile\n",
    "#in this case we are not considering the time spent in the traffic jam"
   ]
  },
  {
   "cell_type": "markdown",
   "metadata": {},
   "source": [
    "# compute mean and std"
   ]
  },
  {
   "cell_type": "code",
   "execution_count": 10,
   "metadata": {
    "scrolled": true
   },
   "outputs": [
    {
     "data": {
      "text/plain": [
       "mean     4.37615\n",
       "std     44.71181\n",
       "Name: price_per_mile, dtype: float64"
      ]
     },
     "execution_count": 10,
     "metadata": {},
     "output_type": "execute_result"
    }
   ],
   "source": [
    "January.price_per_mile.agg(['mean', 'std'])"
   ]
  },
  {
   "cell_type": "code",
   "execution_count": 12,
   "metadata": {},
   "outputs": [],
   "source": [
    "'''As you can see there'are very strange values. It's impossible getting a mean = 4.37615 and a standard deviation = 44.71181\n",
    "That's happened in particoular because there are weird values in trips with a Ratecode = 5, \n",
    "where the price per every race was accorded between the driver and the passenger. It could seem that eihter the driver asked for\n",
    "an heavy price (as thief) or there was a mistake during the record upload. Whit the data in our hand, we can not know if the\n",
    "drivers were thieves or the races were typed wrongly by the GPS technology.\n",
    "Therefore, after a meticolus analysis we discovered that the other values belong to the records\n",
    "with a \"price_per_mile\" greater than 20$ are unlikely, so we decided to keep them out form the compute (total amount = 6982).'''\n",
    "\n",
    "strange_values = January[January.price_per_mile > 20.00]\n",
    "January.drop(strange_values.index, axis = 0, inplace = True)"
   ]
  },
  {
   "cell_type": "code",
   "execution_count": 13,
   "metadata": {},
   "outputs": [
    {
     "data": {
      "text/plain": [
       "mean    3.963884\n",
       "std     1.320340\n",
       "Name: price_per_mile, dtype: float64"
      ]
     },
     "execution_count": 13,
     "metadata": {},
     "output_type": "execute_result"
    }
   ],
   "source": [
    "#compute the mean and the std again:\n",
    "January.price_per_mile.agg(['mean', 'std'])"
   ]
  },
  {
   "cell_type": "markdown",
   "metadata": {},
   "source": [
    "# I.2) Run the mean and std per each borough and plot\n",
    "MERGE \"January3\" with \"taxi_zone_lookup\""
   ]
  },
  {
   "cell_type": "code",
   "execution_count": 15,
   "metadata": {},
   "outputs": [],
   "source": [
    "January_zone = pd.merge(January,df_taxi_zone, how = 'left', left_on=['PULocationID'], right_on=['LocationID'])"
   ]
  },
  {
   "cell_type": "code",
   "execution_count": 16,
   "metadata": {},
   "outputs": [
    {
     "data": {
      "text/html": [
       "<div>\n",
       "<style scoped>\n",
       "    .dataframe tbody tr th:only-of-type {\n",
       "        vertical-align: middle;\n",
       "    }\n",
       "\n",
       "    .dataframe tbody tr th {\n",
       "        vertical-align: top;\n",
       "    }\n",
       "\n",
       "    .dataframe thead th {\n",
       "        text-align: right;\n",
       "    }\n",
       "</style>\n",
       "<table border=\"1\" class=\"dataframe\">\n",
       "  <thead>\n",
       "    <tr style=\"text-align: right;\">\n",
       "      <th></th>\n",
       "      <th>mean</th>\n",
       "      <th>std</th>\n",
       "    </tr>\n",
       "    <tr>\n",
       "      <th>Borough</th>\n",
       "      <th></th>\n",
       "      <th></th>\n",
       "    </tr>\n",
       "  </thead>\n",
       "  <tbody>\n",
       "    <tr>\n",
       "      <th>Bronx</th>\n",
       "      <td>3.597890</td>\n",
       "      <td>1.334484</td>\n",
       "    </tr>\n",
       "    <tr>\n",
       "      <th>Brooklyn</th>\n",
       "      <td>3.480330</td>\n",
       "      <td>0.943658</td>\n",
       "    </tr>\n",
       "    <tr>\n",
       "      <th>EWR</th>\n",
       "      <td>5.201582</td>\n",
       "      <td>4.304133</td>\n",
       "    </tr>\n",
       "    <tr>\n",
       "      <th>Manhattan</th>\n",
       "      <td>4.016702</td>\n",
       "      <td>1.329137</td>\n",
       "    </tr>\n",
       "    <tr>\n",
       "      <th>Queens</th>\n",
       "      <td>3.024023</td>\n",
       "      <td>0.656405</td>\n",
       "    </tr>\n",
       "    <tr>\n",
       "      <th>Staten Island</th>\n",
       "      <td>3.228266</td>\n",
       "      <td>1.902298</td>\n",
       "    </tr>\n",
       "    <tr>\n",
       "      <th>Unknown</th>\n",
       "      <td>4.016883</td>\n",
       "      <td>1.378716</td>\n",
       "    </tr>\n",
       "  </tbody>\n",
       "</table>\n",
       "</div>"
      ],
      "text/plain": [
       "                   mean       std\n",
       "Borough                          \n",
       "Bronx          3.597890  1.334484\n",
       "Brooklyn       3.480330  0.943658\n",
       "EWR            5.201582  4.304133\n",
       "Manhattan      4.016702  1.329137\n",
       "Queens         3.024023  0.656405\n",
       "Staten Island  3.228266  1.902298\n",
       "Unknown        4.016883  1.378716"
      ]
     },
     "execution_count": 16,
     "metadata": {},
     "output_type": "execute_result"
    }
   ],
   "source": [
    "January_zone['Borough'] = January_zone['Borough'].astype('str')#we're gonna use str method\n",
    "January_zone.groupby('Borough').price_per_mile.agg(['mean', 'std'])"
   ]
  },
  {
   "cell_type": "code",
   "execution_count": 17,
   "metadata": {},
   "outputs": [
    {
     "data": {
      "text/plain": [
       "<matplotlib.axes._subplots.AxesSubplot at 0x1e780ed2198>"
      ]
     },
     "execution_count": 17,
     "metadata": {},
     "output_type": "execute_result"
    }
   ],
   "source": [
    "January_zone.groupby('Borough').price_per_mile.agg(['mean', 'std']).plot(kind = 'bar')"
   ]
  },
  {
   "cell_type": "markdown",
   "metadata": {},
   "source": [
    "# I.3) T-test"
   ]
  },
  {
   "cell_type": "markdown",
   "metadata": {},
   "source": [
    "- H0 : The races number depend on the price\n",
    "- H1 : The races number don't depend on the price"
   ]
  },
  {
   "cell_type": "code",
   "execution_count": 18,
   "metadata": {},
   "outputs": [
    {
     "data": {
      "text/html": [
       "<div>\n",
       "<style scoped>\n",
       "    .dataframe tbody tr th:only-of-type {\n",
       "        vertical-align: middle;\n",
       "    }\n",
       "\n",
       "    .dataframe tbody tr th {\n",
       "        vertical-align: top;\n",
       "    }\n",
       "\n",
       "    .dataframe thead th {\n",
       "        text-align: right;\n",
       "    }\n",
       "</style>\n",
       "<table border=\"1\" class=\"dataframe\">\n",
       "  <thead>\n",
       "    <tr style=\"text-align: right;\">\n",
       "      <th></th>\n",
       "      <th>Borough</th>\n",
       "      <th>mean</th>\n",
       "      <th>std</th>\n",
       "      <th>var</th>\n",
       "      <th>count</th>\n",
       "    </tr>\n",
       "  </thead>\n",
       "  <tbody>\n",
       "    <tr>\n",
       "      <th>0</th>\n",
       "      <td>Bronx</td>\n",
       "      <td>3.597890</td>\n",
       "      <td>1.334484</td>\n",
       "      <td>1.780848</td>\n",
       "      <td>6481</td>\n",
       "    </tr>\n",
       "    <tr>\n",
       "      <th>1</th>\n",
       "      <td>Brooklyn</td>\n",
       "      <td>3.480330</td>\n",
       "      <td>0.943658</td>\n",
       "      <td>0.890490</td>\n",
       "      <td>97497</td>\n",
       "    </tr>\n",
       "    <tr>\n",
       "      <th>2</th>\n",
       "      <td>EWR</td>\n",
       "      <td>5.201582</td>\n",
       "      <td>4.304133</td>\n",
       "      <td>18.525559</td>\n",
       "      <td>67</td>\n",
       "    </tr>\n",
       "    <tr>\n",
       "      <th>3</th>\n",
       "      <td>Manhattan</td>\n",
       "      <td>4.016702</td>\n",
       "      <td>1.329137</td>\n",
       "      <td>1.766606</td>\n",
       "      <td>7864314</td>\n",
       "    </tr>\n",
       "    <tr>\n",
       "      <th>4</th>\n",
       "      <td>Queens</td>\n",
       "      <td>3.024023</td>\n",
       "      <td>0.656405</td>\n",
       "      <td>0.430867</td>\n",
       "      <td>397390</td>\n",
       "    </tr>\n",
       "    <tr>\n",
       "      <th>5</th>\n",
       "      <td>Staten Island</td>\n",
       "      <td>3.228266</td>\n",
       "      <td>1.902298</td>\n",
       "      <td>3.618740</td>\n",
       "      <td>102</td>\n",
       "    </tr>\n",
       "  </tbody>\n",
       "</table>\n",
       "</div>"
      ],
      "text/plain": [
       "         Borough      mean       std        var    count\n",
       "0          Bronx  3.597890  1.334484   1.780848     6481\n",
       "1       Brooklyn  3.480330  0.943658   0.890490    97497\n",
       "2            EWR  5.201582  4.304133  18.525559       67\n",
       "3      Manhattan  4.016702  1.329137   1.766606  7864314\n",
       "4         Queens  3.024023  0.656405   0.430867   397390\n",
       "5  Staten Island  3.228266  1.902298   3.618740      102"
      ]
     },
     "execution_count": 18,
     "metadata": {},
     "output_type": "execute_result"
    }
   ],
   "source": [
    "Data1 = January_zone.groupby('Borough').price_per_mile.agg(['mean', 'std', 'var', 'count'])\n",
    "Data1 = Data1.reset_index()#In this way I organized the df  whit an other index. \n",
    "#The Borough will no longer the index but just a column-label instead the new index will be the defoult index genereted automatically by pandas.\n",
    "#In this way is  morehandable\n",
    "Data1.drop([6], axis = 0, inplace = True)#I deleted the Unknown Borough just for simplify the compute.\n",
    "Data1"
   ]
  },
  {
   "cell_type": "code",
   "execution_count": 20,
   "metadata": {},
   "outputs": [],
   "source": [
    "Data1_rolled1 = pd.DataFrame(pd.np.roll(Data1,1,axis = 0), columns = Data1.columns)\n",
    "#I rolled the Data1 of just one position, \n",
    "#so I've a new df where the last Borough('State Island') is the first and the ex-first ('Bronx') is the second.\n",
    "#(I said just one position, because I've to do this for other 3 times, so I'll have all the possible pairs of distribution of different Boroughs.)\n",
    "Data1_joined1 = Data1.join(Data1_rolled1, rsuffix = ' (rolled = 1)')\n",
    "#I join them so I can use le lambda function per each row, and get, as result, the P value per each couple of Borough.\n",
    "Data1_joined1['P value (1)'] = Data1_joined1.apply(lambda x: stats.ttest_ind_from_stats(x['mean'],x['std'],x['count'], x['mean (rolled = 1)'],x['std (rolled = 1)'],x['count (rolled = 1)'])[1],axis=1)\n",
    "#Use the lambda function to run the p-value per each row."
   ]
  },
  {
   "cell_type": "code",
   "execution_count": 21,
   "metadata": {},
   "outputs": [],
   "source": [
    "Data1_rolled2 = pd.DataFrame(pd.np.roll(Data1, 2, axis =0), columns = Data1.columns)\n",
    "#I rolled the Data1 of two position, \n",
    "#so I've a new df where the second to last Borough('Queens') is the first and the ex-first ('Bronx') is the 3rd.\n",
    "Data1_joined2= Data1.join(Data1_rolled2, rsuffix = ' (rolled = 2)')\n",
    "#I join them so I can use le lambda function per each row and get, as result, the  P value per each couple of Borough.\n",
    "Data1_joined2['P value (2)'] = Data1_joined2.apply(lambda x: stats.ttest_ind_from_stats(x['mean'],x['std'],x['count'], x['mean (rolled = 2)'],x['std (rolled = 2)'],x['count (rolled = 2)'])[1],axis = 1)\n",
    "#Use the lambda function to run the p-value per each row."
   ]
  },
  {
   "cell_type": "code",
   "execution_count": 22,
   "metadata": {},
   "outputs": [],
   "source": [
    "Data1_rolled3 = pd.DataFrame(pd.np.roll(Data1, 3, axis = 0), columns = Data1.columns)\n",
    "#I rolled the Data1 three one position, \n",
    "#so I've a new df where the 4th Borough('Manhattan') is the first and the ex-first ('Bronx') is the 4th.\n",
    "Data1_joined3 = Data1.join(Data1_rolled3, rsuffix = ' (rolled = 3)')\n",
    "#I join them so I can use le lambda function per each row and get, as result, the  P value per each couple of Borough.\n",
    "Data1_joined3['P value (3)'] = Data1_joined3.apply(lambda x: stats.ttest_ind_from_stats(x['mean'], x['std'], x['count'], x['mean (rolled = 3)'], x['std (rolled = 3)'], x['count (rolled = 3)'])[1],axis = 1)\n",
    "#Use the lambda function to run the p-value per each row."
   ]
  },
  {
   "cell_type": "code",
   "execution_count": 23,
   "metadata": {},
   "outputs": [],
   "source": [
    "Data1_rolled4 = pd.DataFrame(pd.np.roll(Data1, 4, axis = 0), columns = Data1.columns)\n",
    "#I rolled the Data1 of four position, \n",
    "#so I've a new df where the 3rd Borough('EWR') is the first and the ex-first ('Bronx') is the 5th.\n",
    "Data1_joined4 = Data1.join(Data1_rolled4, rsuffix = ' (rolled = 4)')\n",
    "#I join them so I can use le lambda function per each row and get, as result, the  P value per each couple of Borough.\n",
    "Data1_joined4['P value (4)'] = Data1_joined4.apply(lambda x: stats.ttest_ind_from_stats(x['mean'], x['std'], x['count'], x['mean (rolled = 4)'], x['std (rolled = 4)'], x['count (rolled = 4)'])[1],axis = 1)\n",
    "#Use the lambda function to run the p-value per each row."
   ]
  },
  {
   "cell_type": "code",
   "execution_count": null,
   "metadata": {},
   "outputs": [],
   "source": [
    "Data1_joined1, Data1_joined2, Data1_joined3, Data1_joined4"
   ]
  },
  {
   "cell_type": "markdown",
   "metadata": {},
   "source": [
    "# II PART"
   ]
  },
  {
   "cell_type": "markdown",
   "metadata": {},
   "source": [
    "Compute the deltatime"
   ]
  },
  {
   "cell_type": "code",
   "execution_count": 25,
   "metadata": {},
   "outputs": [],
   "source": [
    "#I'm gonna change the type of the values inside this two series from object to datetime\n",
    "January_zone['tpep_pickup_datetime'] = pd.to_datetime(January_zone.tpep_pickup_datetime)\n",
    "January_zone['tpep_dropoff_datetime'] = pd.to_datetime(January_zone.tpep_dropoff_datetime)"
   ]
  },
  {
   "cell_type": "code",
   "execution_count": 26,
   "metadata": {},
   "outputs": [],
   "source": [
    "#and I'm gonna compute the time per each trip, and I'm gonna stick the output in a new serie.\n",
    "January_zone['delta_time'] = (January_zone.tpep_dropoff_datetime - January_zone.tpep_pickup_datetime).astype('timedelta64[s]')\n",
    "#express the output in seconds."
   ]
  },
  {
   "cell_type": "markdown",
   "metadata": {},
   "source": [
    "# II. 1) mean weigthed and std"
   ]
  },
  {
   "cell_type": "code",
   "execution_count": 27,
   "metadata": {},
   "outputs": [],
   "source": [
    "#Get a serie where the values are the means of each Borough\n",
    "Serie_mean_w = January_zone.groupby('Borough').apply(lambda x: np.average(x['price_per_mile'], weights = x['delta_time']))\n",
    "#Get a serie where the values are the stds of each Borough\n",
    "Serie_std_w = January_zone.groupby('Borough').apply(lambda x: np.sqrt(np.cov(x['price_per_mile'], aweights= x['delta_time'])))"
   ]
  },
  {
   "cell_type": "code",
   "execution_count": 28,
   "metadata": {},
   "outputs": [],
   "source": [
    "#Convert the \"Serie_mean_w\" into dataframe \n",
    "Data_mean_w = Serie_mean_w.to_frame()\n",
    "Data_mean_w= Data_mean_w.rename(columns= {0: 'weighted mean'})#change the name of the 0 label column to \"weighted mean\"\n",
    "#Convert the \"Serie_std_w\" into dataframe\n",
    "Data_std_w = Serie_std_w.to_frame()\n",
    "Data_std_w = Data_std_w.rename (columns = {0: 'weighted std'})#change the name of the 0 label column to \"std mean\"\n",
    "\n",
    "#Marge the two dataframes above\n",
    "Data_weighted= pd.merge(Data_mean_w, Data_std_w, how='inner', right_index = True, left_index = True )\n",
    "\n",
    "Data_weighted = Data_weighted.reset_index()#In this way I organized the df  whit an other index. \n",
    "#The Borough will no longer the index but just a column-label instead the new index will be the defoult index genereted automatically by pandas.\n",
    "#In this way is  morehandable\n",
    "\n",
    "\n",
    "#We're gonna marge the Data_weighted with the column Data1.count so I get number of reces per each Borough\n",
    "Serie_count = Data1['count']#get a new serie from Data1 where the only column is the coulmn \"count\"\n",
    "#convert the new serie into df:\n",
    "Data_count= Serie_count.to_frame()\n",
    "#Merge:\n",
    "Data_weighted = pd.merge(Data_weighted, Data_count, how= 'inner', right_index = True, left_index = True)"
   ]
  },
  {
   "cell_type": "code",
   "execution_count": 29,
   "metadata": {
    "scrolled": true
   },
   "outputs": [
    {
     "data": {
      "text/html": [
       "<div>\n",
       "<style scoped>\n",
       "    .dataframe tbody tr th:only-of-type {\n",
       "        vertical-align: middle;\n",
       "    }\n",
       "\n",
       "    .dataframe tbody tr th {\n",
       "        vertical-align: top;\n",
       "    }\n",
       "\n",
       "    .dataframe thead th {\n",
       "        text-align: right;\n",
       "    }\n",
       "</style>\n",
       "<table border=\"1\" class=\"dataframe\">\n",
       "  <thead>\n",
       "    <tr style=\"text-align: right;\">\n",
       "      <th></th>\n",
       "      <th>Borough</th>\n",
       "      <th>weighted mean</th>\n",
       "      <th>weighted std</th>\n",
       "      <th>count</th>\n",
       "    </tr>\n",
       "  </thead>\n",
       "  <tbody>\n",
       "    <tr>\n",
       "      <th>0</th>\n",
       "      <td>Bronx</td>\n",
       "      <td>3.611475</td>\n",
       "      <td>1.296860</td>\n",
       "      <td>6481</td>\n",
       "    </tr>\n",
       "    <tr>\n",
       "      <th>1</th>\n",
       "      <td>Brooklyn</td>\n",
       "      <td>3.497271</td>\n",
       "      <td>0.876594</td>\n",
       "      <td>97497</td>\n",
       "    </tr>\n",
       "    <tr>\n",
       "      <th>2</th>\n",
       "      <td>EWR</td>\n",
       "      <td>2.904677</td>\n",
       "      <td>1.799016</td>\n",
       "      <td>67</td>\n",
       "    </tr>\n",
       "    <tr>\n",
       "      <th>3</th>\n",
       "      <td>Manhattan</td>\n",
       "      <td>4.142551</td>\n",
       "      <td>1.405313</td>\n",
       "      <td>7864314</td>\n",
       "    </tr>\n",
       "    <tr>\n",
       "      <th>4</th>\n",
       "      <td>Queens</td>\n",
       "      <td>3.063355</td>\n",
       "      <td>0.603702</td>\n",
       "      <td>397390</td>\n",
       "    </tr>\n",
       "    <tr>\n",
       "      <th>5</th>\n",
       "      <td>Staten Island</td>\n",
       "      <td>3.621008</td>\n",
       "      <td>1.737542</td>\n",
       "      <td>102</td>\n",
       "    </tr>\n",
       "  </tbody>\n",
       "</table>\n",
       "</div>"
      ],
      "text/plain": [
       "         Borough  weighted mean  weighted std    count\n",
       "0          Bronx       3.611475      1.296860     6481\n",
       "1       Brooklyn       3.497271      0.876594    97497\n",
       "2            EWR       2.904677      1.799016       67\n",
       "3      Manhattan       4.142551      1.405313  7864314\n",
       "4         Queens       3.063355      0.603702   397390\n",
       "5  Staten Island       3.621008      1.737542      102"
      ]
     },
     "execution_count": 29,
     "metadata": {},
     "output_type": "execute_result"
    }
   ],
   "source": [
    "Data_weighted"
   ]
  },
  {
   "cell_type": "code",
   "execution_count": 30,
   "metadata": {},
   "outputs": [
    {
     "data": {
      "text/plain": [
       "<matplotlib.axes._subplots.AxesSubplot at 0x1e7d68fb208>"
      ]
     },
     "execution_count": 30,
     "metadata": {},
     "output_type": "execute_result"
    },
    {
     "data": {
      "image/png": "[encoded data removed]",
      "text/plain": [
       "<Figure size 432x288 with 1 Axes>"
      ]
     },
     "metadata": {},
     "output_type": "display_data"
    }
   ],
   "source": [
    "Data_weighted[['weighted mean', 'weighted std']].plot(kind = 'bar')"
   ]
  },
  {
   "cell_type": "markdown",
   "metadata": {},
   "source": [
    "# II.3) T-Test"
   ]
  },
  {
   "cell_type": "markdown",
   "metadata": {},
   "source": [
    "- H0 : The races number depend on the price\n",
    "- H1 : The races number don't depend on the price"
   ]
  },
  {
   "cell_type": "code",
   "execution_count": 31,
   "metadata": {},
   "outputs": [],
   "source": [
    "Data_weighted_1_rolled1 = pd.DataFrame(pd.np.roll(Data_weighted,1,axis = 0), columns = Data_weighted.columns)\n",
    "#I rolled the Data1 of just one position, \n",
    "#so I've a new df where the last Borough('State Island') is the first and the ex-first ('Bronx') is the second.\n",
    "#(I said just one position, because I've to do this for other 3 times, so I'll have all the possible pairs of distribution of different Boroughs.)\n",
    "\n",
    "Data_weighted_1_joined1 = Data_weighted.join(Data_weighted_1_rolled1, rsuffix = ' (rolled = 1)')\n",
    "#I join them so I can use le lambda function per each row, and get, as result, the P value per each couple of Borough.\n",
    "Data_weighted_1_joined1['P value (1)'] = Data_weighted_1_joined1.apply(lambda x: stats.ttest_ind_from_stats(x['weighted mean'],x['weighted std'],x['count'], x['weighted mean (rolled = 1)'],x['weighted std (rolled = 1)'],x['count (rolled = 1)'])[1],axis=1)\n",
    "#Use the lambda function to run the p-value per each row."
   ]
  },
  {
   "cell_type": "code",
   "execution_count": 35,
   "metadata": {},
   "outputs": [],
   "source": [
    "Data_weighted_1_rolled2 = pd.DataFrame(pd.np.roll(Data_weighted,2,axis = 0), columns = Data_weighted.columns)\n",
    "#I rolled the Data1 of two position, \n",
    "#so I've a new df where the second to last Borough('Queens') is the first and the ex-first ('Bronx') is the 3rd.\n",
    "\n",
    "Data_weighted_1_joined2 = Data_weighted.join(Data_weighted_1_rolled3, rsuffix = ' (rolled = 2)')\n",
    "#I join them so I can use le lambda function per each row, and get, as result, the P value per each couple of Borough.\n",
    "\n",
    "\n",
    "Data_weighted_1_joined2['P value (2)'] = Data_weighted_1_joined3.apply(lambda x: stats.ttest_ind_from_stats(x['weighted mean'],x['weighted std'],x['count'], x['weighted mean (rolled = 3)'],x['weighted std (rolled = 3)'],x['count (rolled = 3)'])[1],axis=1)\n",
    "#Use the lambda function to run the p-value per each row."
   ]
  },
  {
   "cell_type": "code",
   "execution_count": 36,
   "metadata": {},
   "outputs": [],
   "source": [
    "Data_weighted_1_rolled3 = pd.DataFrame(pd.np.roll(Data_weighted,3,axis = 0), columns = Data_weighted.columns)\n",
    "#I rolled the Data1 three one position, \n",
    "#so I've a new df where the 4th Borough('Manhattan') is the first and the ex-first ('Bronx') is the 4th.\n",
    "\n",
    "Data_weighted_1_joined3 = Data_weighted.join(Data_weighted_1_rolled3, rsuffix = ' (rolled = 3)')\n",
    "#I join them so I can use le lambda function per each row, and get, as result, the P value per each couple of Borough.\n",
    "\n",
    "\n",
    "Data_weighted_1_joined3['P value (3)'] = Data_weighted_1_joined3.apply(lambda x: stats.ttest_ind_from_stats(x['weighted mean'],x['weighted std'],x['count'], x['weighted mean (rolled = 3)'],x['weighted std (rolled = 3)'],x['count (rolled = 3)'])[1],axis=1)\n",
    "#Use the lambda function to run the p-value per each row."
   ]
  },
  {
   "cell_type": "code",
   "execution_count": 37,
   "metadata": {},
   "outputs": [],
   "source": [
    "Data_weighted_1_rolled4 = pd.DataFrame(pd.np.roll(Data_weighted,4,axis = 0), columns = Data_weighted.columns)\n",
    "#I rolled the Data1 of four position, \n",
    "#so I've a new df where the 3rd Borough('EWR') is the first and the ex-first ('Bronx') is the 5th.\n",
    "\n",
    "Data_weighted_1_joined4 = Data_weighted.join(Data_weighted_1_rolled4, rsuffix = ' (rolled = 4)')\n",
    "#I join them so I can use le lambda function per each row, and get, as result, the P value per each couple of Borough.\n",
    "\n",
    "\n",
    "Data_weighted_1_joined4['P value (4)'] = Data_weighted_1_joined4.apply(lambda x: stats.ttest_ind_from_stats(x['weighted mean'],x['weighted std'],x['count'], x['weighted mean (rolled = 4)'],x['weighted std (rolled = 4)'],x['count (rolled = 4)'])[1],axis=1)\n",
    "#Use the lambda function to run the p-value per each row."
   ]
  },
  {
   "cell_type": "code",
   "execution_count": 38,
   "metadata": {
    "scrolled": false
   },
   "outputs": [
    {
     "data": {
      "text/plain": [
       "(         Borough  weighted mean  weighted std    count Borough (rolled = 1)  \\\n",
       " 0          Bronx       3.611475      1.296860     6481        Staten Island   \n",
       " 1       Brooklyn       3.497271      0.876594    97497                Bronx   \n",
       " 2            EWR       2.904677      1.799016       67             Brooklyn   \n",
       " 3      Manhattan       4.142551      1.405313  7864314                  EWR   \n",
       " 4         Queens       3.063355      0.603702   397390            Manhattan   \n",
       " 5  Staten Island       3.621008      1.737542      102               Queens   \n",
       " \n",
       "   weighted mean (rolled = 1) weighted std (rolled = 1) count (rolled = 1)  \\\n",
       " 0                    3.62101                   1.73754                102   \n",
       " 1                    3.61147                   1.29686               6481   \n",
       " 2                    3.49727                  0.876594              97497   \n",
       " 3                    2.90468                   1.79902                 67   \n",
       " 4                    4.14255                   1.40531            7864314   \n",
       " 5                    3.06335                  0.603702             397390   \n",
       " \n",
       "     P value (1)  \n",
       " 0  9.416347e-01  \n",
       " 1  1.156399e-22  \n",
       " 2  3.292742e-08  \n",
       " 3  5.593862e-13  \n",
       " 4  0.000000e+00  \n",
       " 5  1.176634e-20  ,\n",
       "          Borough  weighted mean  weighted std    count Borough (rolled = 2)  \\\n",
       " 0          Bronx       3.611475      1.296860     6481            Manhattan   \n",
       " 1       Brooklyn       3.497271      0.876594    97497               Queens   \n",
       " 2            EWR       2.904677      1.799016       67        Staten Island   \n",
       " 3      Manhattan       4.142551      1.405313  7864314                Bronx   \n",
       " 4         Queens       3.063355      0.603702   397390             Brooklyn   \n",
       " 5  Staten Island       3.621008      1.737542      102                  EWR   \n",
       " \n",
       "   weighted mean (rolled = 2) weighted std (rolled = 2) count (rolled = 2)  \\\n",
       " 0                    4.14255                   1.40531            7864314   \n",
       " 1                    3.06335                  0.603702             397390   \n",
       " 2                    3.62101                   1.73754                102   \n",
       " 3                    3.61147                   1.29686               6481   \n",
       " 4                    3.49727                  0.876594              97497   \n",
       " 5                    2.90468                   1.79902                 67   \n",
       " \n",
       "      P value (2)  \n",
       " 0  3.855355e-203  \n",
       " 1   0.000000e+00  \n",
       " 2   1.058897e-02  \n",
       " 3  3.855355e-203  \n",
       " 4   0.000000e+00  \n",
       " 5   1.058897e-02  ,\n",
       "          Borough  weighted mean  weighted std    count Borough (rolled = 3)  \\\n",
       " 0          Bronx       3.611475      1.296860     6481            Manhattan   \n",
       " 1       Brooklyn       3.497271      0.876594    97497               Queens   \n",
       " 2            EWR       2.904677      1.799016       67        Staten Island   \n",
       " 3      Manhattan       4.142551      1.405313  7864314                Bronx   \n",
       " 4         Queens       3.063355      0.603702   397390             Brooklyn   \n",
       " 5  Staten Island       3.621008      1.737542      102                  EWR   \n",
       " \n",
       "   weighted mean (rolled = 3) weighted std (rolled = 3) count (rolled = 3)  \\\n",
       " 0                    4.14255                   1.40531            7864314   \n",
       " 1                    3.06335                  0.603702             397390   \n",
       " 2                    3.62101                   1.73754                102   \n",
       " 3                    3.61147                   1.29686               6481   \n",
       " 4                    3.49727                  0.876594              97497   \n",
       " 5                    2.90468                   1.79902                 67   \n",
       " \n",
       "      P value (3)  \n",
       " 0  3.855355e-203  \n",
       " 1   0.000000e+00  \n",
       " 2   1.058897e-02  \n",
       " 3  3.855355e-203  \n",
       " 4   0.000000e+00  \n",
       " 5   1.058897e-02  ,\n",
       "          Borough  weighted mean  weighted std    count Borough (rolled = 4)  \\\n",
       " 0          Bronx       3.611475      1.296860     6481                  EWR   \n",
       " 1       Brooklyn       3.497271      0.876594    97497            Manhattan   \n",
       " 2            EWR       2.904677      1.799016       67               Queens   \n",
       " 3      Manhattan       4.142551      1.405313  7864314        Staten Island   \n",
       " 4         Queens       3.063355      0.603702   397390                Bronx   \n",
       " 5  Staten Island       3.621008      1.737542      102             Brooklyn   \n",
       " \n",
       "   weighted mean (rolled = 4) weighted std (rolled = 4) count (rolled = 4)  \\\n",
       " 0                    2.90468                   1.79902                 67   \n",
       " 1                    4.14255                   1.40531            7864314   \n",
       " 2                    3.06335                  0.603702             397390   \n",
       " 3                    3.62101                   1.73754                102   \n",
       " 4                    3.61147                   1.29686               6481   \n",
       " 5                    3.49727                  0.876594              97497   \n",
       " \n",
       "    P value (4)  \n",
       " 0     0.000010  \n",
       " 1     0.000000  \n",
       " 2     0.031566  \n",
       " 3     0.000178  \n",
       " 4     0.000000  \n",
       " 5     0.154824  )"
      ]
     },
     "execution_count": 38,
     "metadata": {},
     "output_type": "execute_result"
    }
   ],
   "source": [
    "Data_weighted_1_joined1, Data_weighted_1_joined2, Data_weighted_1_joined3, Data_weighted_1_joined4"
   ]
  },
  {
   "cell_type": "code",
   "execution_count": null,
   "metadata": {},
   "outputs": [],
   "source": []
  }
 ],
 "metadata": {
  "kernelspec": {
   "display_name": "Python 3",
   "language": "python",
   "name": "python3"
  },
  "language_info": {
   "codemirror_mode": {
    "name": "ipython",
    "version": 3
   },
   "file_extension": ".py",
   "mimetype": "text/x-python",
   "name": "python",
   "nbconvert_exporter": "python",
   "pygments_lexer": "ipython3",
   "version": "3.6.5"
  }
 },
 "nbformat": 4,
 "nbformat_minor": 2
}
