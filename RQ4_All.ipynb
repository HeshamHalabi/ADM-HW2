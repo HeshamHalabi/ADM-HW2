{
 "cells": [
  {
   "cell_type": "code",
   "execution_count": 29,
   "metadata": {},
   "outputs": [],
   "source": [
    "import pandas as pd\n",
    "from scipy.stats import chisquare,chi2_contingency\n",
    "import matplotlib.pyplot as plt\n",
    "import numpy as np\n",
    "from datetime import datetime, time\n",
    "\n",
    "n = 1\n",
    "month = ['January', 'February', 'March', 'April', 'May', 'June']\n",
    "payment_ny_global = {}\n",
    "payment_borough_global = {}\n",
    "parse_dates = ['tpep_pickup_datetime', 'tpep_dropoff_datetime']\n",
    "df_zone = pd.read_csv('taxi_zone_lookup.csv', usecols=[0,1], encoding = 'ISO-8859-1')\n",
    "\n",
    "while(n<7):\n",
    "    csv_path = 'yellow_tripdata_2018-0'+str(n)+'.csv'\n",
    "\n",
    "    df_taxi = pd.read_csv(csv_path, usecols = [1,2,3,4,7,8,9,16], parse_dates = parse_dates, encoding = 'ISO-8859-1')\n",
    "\n",
    "    df_taxi = df_taxi[df_taxi['tpep_pickup_datetime'].dt.year == 2018]\n",
    "    df_taxi = df_taxi[df_taxi['tpep_pickup_datetime'].dt.month == n]\n",
    "    df_taxi = df_taxi[df_taxi['tpep_dropoff_datetime'].dt.year == 2018]\n",
    "    df_taxi = df_taxi[df_taxi['tpep_dropoff_datetime'].dt.month <= n+1]\n",
    "    df_taxi = df_taxi[df_taxi['payment_type'] >= 1]\n",
    "    df_taxi = df_taxi[df_taxi['payment_type'] <= 6]\n",
    "    df_taxi = df_taxi.dropna(subset=['payment_type'])\n",
    "\n",
    "    df_join = pd.merge(df_taxi,df_zone, how = 'left', left_on=['PULocationID'], right_on=['LocationID'])\n",
    "    \n",
    "    del df_taxi\n",
    "\n",
    "    df_payment = df_join[['Borough', 'payment_type']]\n",
    "    payment_ny = df_payment.groupby('payment_type').count()\n",
    "    payment_ny.columns = ['n_payments']\n",
    "    \n",
    "    payment_ny_global[month[n-1]] = payment_ny['n_payments'].to_dict()\n",
    "    \n",
    "    del payment_ny\n",
    "\n",
    "    payment_borough = df_payment.groupby(['Borough','payment_type']).payment_type.count()\n",
    "    \n",
    "    del df_payment\n",
    "\n",
    "    payment_borough = pd.DataFrame(payment_borough)\n",
    "    payment_borough.columns = ['n_payments']\n",
    "    \n",
    "    payment_borough_global[month[n-1]] = payment_borough['n_payments'].to_dict()\n",
    "    \n",
    "    n += 1"
   ]
  },
  {
   "cell_type": "code",
   "execution_count": 5,
   "metadata": {},
   "outputs": [
    {
     "data": {
      "text/plain": [
       "14460.901173348751"
      ]
     },
     "execution_count": 5,
     "metadata": {},
     "output_type": "execute_result"
    }
   ],
   "source": [
    "chi2"
   ]
  },
  {
   "cell_type": "code",
   "execution_count": 6,
   "metadata": {},
   "outputs": [
    {
     "data": {
      "text/plain": [
       "0.0"
      ]
     },
     "execution_count": 6,
     "metadata": {},
     "output_type": "execute_result"
    }
   ],
   "source": [
    "p"
   ]
  },
  {
   "cell_type": "code",
   "execution_count": 7,
   "metadata": {},
   "outputs": [
    {
     "data": {
      "text/plain": [
       "18"
      ]
     },
     "execution_count": 7,
     "metadata": {},
     "output_type": "execute_result"
    }
   ],
   "source": [
    "dof"
   ]
  },
  {
   "cell_type": "code",
   "execution_count": 8,
   "metadata": {
    "scrolled": false
   },
   "outputs": [
    {
     "data": {
      "text/plain": [
       "array([[5.15037079e+03, 6.98705059e+04, 3.98005376e+02, 5.55213665e+06,\n",
       "        3.67257892e+05, 1.00372634e+02, 1.10761202e+05],\n",
       "       [2.19218737e+03, 2.97394589e+04, 1.69405736e+02, 2.36319371e+06,\n",
       "        1.56318476e+05, 4.27222873e+01, 4.71440440e+04],\n",
       "       [3.64442293e+01, 4.94406488e+02, 2.81630192e+00, 3.92871406e+04,\n",
       "        2.59873150e+03, 7.10240765e-01, 7.83750684e+02],\n",
       "       [9.99761608e+00, 1.35628777e+02, 7.72586112e-01, 1.07775018e+04,\n",
       "        7.12900791e+02, 1.94837829e-01, 2.15003544e+02]])"
      ]
     },
     "execution_count": 8,
     "metadata": {},
     "output_type": "execute_result"
    }
   ],
   "source": [
    "expected"
   ]
  },
  {
   "cell_type": "code",
   "execution_count": 30,
   "metadata": {},
   "outputs": [],
   "source": [
    "result = {}\n",
    "for i in payment_ny_global: \n",
    "    for j in payment_ny_global[i]: \n",
    "        if j not in result: \n",
    "            result[j] = payment_ny_global[i][j]\n",
    "        else: \n",
    "            result[j] += payment_ny_global[i][j]\n",
    "            \n",
    "for i in result: \n",
    "    result[i] = result[i]//6"
   ]
  },
  {
   "cell_type": "code",
   "execution_count": 31,
   "metadata": {},
   "outputs": [
    {
     "data": {
      "text/plain": [
       "{1: 6261021, 2: 2665560, 3: 47553, 4: 12867}"
      ]
     },
     "execution_count": 31,
     "metadata": {},
     "output_type": "execute_result"
    }
   ],
   "source": [
    "result"
   ]
  },
  {
   "cell_type": "code",
   "execution_count": 32,
   "metadata": {},
   "outputs": [
    {
     "data": {
      "text/plain": [
       "Text(0.5,1,'Number of payments for each way of payments, New York - From January to June 2018')"
      ]
     },
     "execution_count": 32,
     "metadata": {},
     "output_type": "execute_result"
    },
    {
     "data": {
      "image/png": "[encoded data removed]",
      "text/plain": [
       "<Figure size 1440x576 with 1 Axes>"
      ]
     },
     "metadata": {},
     "output_type": "display_data"
    }
   ],
   "source": [
    "ax = pd.Series(result).plot(kind='bar',figsize=(20,8),legend=False, fontsize=15, width = 0.3)\n",
    "ax.set_xlabel(\"Payment type\",fontsize=15)\n",
    "ax.set_ylabel(\"N payments\",fontsize=15)\n",
    "ax.set_title('Number of payments for each way of payments, New York - From January to June 2018', fontsize=15)"
   ]
  },
  {
   "cell_type": "code",
   "execution_count": 33,
   "metadata": {
    "collapsed": true
   },
   "outputs": [
    {
     "data": {
      "text/plain": [
       "{'January': {('Bronx', 1): 2939,\n",
       "  ('Bronx', 2): 4114,\n",
       "  ('Bronx', 3): 271,\n",
       "  ('Bronx', 4): 65,\n",
       "  ('Brooklyn', 1): 63278,\n",
       "  ('Brooklyn', 2): 35331,\n",
       "  ('Brooklyn', 3): 1320,\n",
       "  ('Brooklyn', 4): 311,\n",
       "  ('EWR', 1): 439,\n",
       "  ('EWR', 2): 88,\n",
       "  ('EWR', 3): 33,\n",
       "  ('EWR', 4): 11,\n",
       "  ('Manhattan', 1): 5564623,\n",
       "  ('Manhattan', 2): 2356770,\n",
       "  ('Manhattan', 3): 34240,\n",
       "  ('Manhattan', 4): 9762,\n",
       "  ('Queens', 1): 365196,\n",
       "  ('Queens', 2): 154697,\n",
       "  ('Queens', 3): 5697,\n",
       "  ('Queens', 4): 1298,\n",
       "  ('Staten Island', 1): 69,\n",
       "  ('Staten Island', 2): 65,\n",
       "  ('Staten Island', 3): 9,\n",
       "  ('Staten Island', 4): 1,\n",
       "  ('Unknown', 1): 109131,\n",
       "  ('Unknown', 2): 47735,\n",
       "  ('Unknown', 3): 1634,\n",
       "  ('Unknown', 4): 404},\n",
       " 'February': {('Bronx', 1): 2691,\n",
       "  ('Bronx', 2): 3595,\n",
       "  ('Bronx', 3): 228,\n",
       "  ('Bronx', 4): 52,\n",
       "  ('Brooklyn', 1): 61096,\n",
       "  ('Brooklyn', 2): 32512,\n",
       "  ('Brooklyn', 3): 1211,\n",
       "  ('Brooklyn', 4): 269,\n",
       "  ('EWR', 1): 397,\n",
       "  ('EWR', 2): 69,\n",
       "  ('EWR', 3): 26,\n",
       "  ('EWR', 4): 5,\n",
       "  ('Manhattan', 1): 5490788,\n",
       "  ('Manhattan', 2): 2232402,\n",
       "  ('Manhattan', 3): 34304,\n",
       "  ('Manhattan', 4): 9734,\n",
       "  ('Queens', 1): 339694,\n",
       "  ('Queens', 2): 138261,\n",
       "  ('Queens', 3): 5326,\n",
       "  ('Queens', 4): 1203,\n",
       "  ('Staten Island', 1): 50,\n",
       "  ('Staten Island', 2): 52,\n",
       "  ('Staten Island', 3): 5,\n",
       "  ('Staten Island', 4): 1,\n",
       "  ('Unknown', 1): 95650,\n",
       "  ('Unknown', 2): 39824,\n",
       "  ('Unknown', 3): 1575,\n",
       "  ('Unknown', 4): 349},\n",
       " 'March': {('Bronx', 1): 4669,\n",
       "  ('Bronx', 2): 5329,\n",
       "  ('Bronx', 3): 267,\n",
       "  ('Bronx', 4): 65,\n",
       "  ('Brooklyn', 1): 79621,\n",
       "  ('Brooklyn', 2): 41516,\n",
       "  ('Brooklyn', 3): 1480,\n",
       "  ('Brooklyn', 4): 310,\n",
       "  ('EWR', 1): 493,\n",
       "  ('EWR', 2): 114,\n",
       "  ('EWR', 3): 42,\n",
       "  ('EWR', 4): 10,\n",
       "  ('Manhattan', 1): 5977208,\n",
       "  ('Manhattan', 2): 2538434,\n",
       "  ('Manhattan', 3): 40554,\n",
       "  ('Manhattan', 4): 11231,\n",
       "  ('Queens', 1): 386348,\n",
       "  ('Queens', 2): 170423,\n",
       "  ('Queens', 3): 6486,\n",
       "  ('Queens', 4): 1523,\n",
       "  ('Staten Island', 1): 73,\n",
       "  ('Staten Island', 2): 51,\n",
       "  ('Staten Island', 3): 12,\n",
       "  ('Staten Island', 4): 3,\n",
       "  ('Unknown', 1): 111654,\n",
       "  ('Unknown', 2): 48537,\n",
       "  ('Unknown', 3): 2136,\n",
       "  ('Unknown', 4): 452},\n",
       " 'April': {('Bronx', 1): 5456,\n",
       "  ('Bronx', 2): 4656,\n",
       "  ('Bronx', 3): 264,\n",
       "  ('Bronx', 4): 62,\n",
       "  ('Brooklyn', 1): 77440,\n",
       "  ('Brooklyn', 2): 39681,\n",
       "  ('Brooklyn', 3): 1605,\n",
       "  ('Brooklyn', 4): 338,\n",
       "  ('EWR', 1): 543,\n",
       "  ('EWR', 2): 98,\n",
       "  ('EWR', 3): 50,\n",
       "  ('EWR', 4): 7,\n",
       "  ('Manhattan', 1): 5869572,\n",
       "  ('Manhattan', 2): 2507853,\n",
       "  ('Manhattan', 3): 40454,\n",
       "  ('Manhattan', 4): 10477,\n",
       "  ('Queens', 1): 412724,\n",
       "  ('Queens', 2): 175341,\n",
       "  ('Queens', 3): 6646,\n",
       "  ('Queens', 4): 1581,\n",
       "  ('Staten Island', 1): 68,\n",
       "  ('Staten Island', 2): 49,\n",
       "  ('Staten Island', 3): 11,\n",
       "  ('Staten Island', 4): 1,\n",
       "  ('Unknown', 1): 103282,\n",
       "  ('Unknown', 2): 44349,\n",
       "  ('Unknown', 3): 1930,\n",
       "  ('Unknown', 4): 489},\n",
       " 'May': {('Bronx', 1): 6229,\n",
       "  ('Bronx', 2): 4315,\n",
       "  ('Bronx', 3): 272,\n",
       "  ('Bronx', 4): 57,\n",
       "  ('Brooklyn', 1): 80311,\n",
       "  ('Brooklyn', 2): 40617,\n",
       "  ('Brooklyn', 3): 1554,\n",
       "  ('Brooklyn', 4): 325,\n",
       "  ('EWR', 1): 600,\n",
       "  ('EWR', 2): 104,\n",
       "  ('EWR', 3): 39,\n",
       "  ('EWR', 4): 8,\n",
       "  ('Manhattan', 1): 5798095,\n",
       "  ('Manhattan', 2): 2500594,\n",
       "  ('Manhattan', 3): 39806,\n",
       "  ('Manhattan', 4): 11212,\n",
       "  ('Queens', 1): 416687,\n",
       "  ('Queens', 2): 185581,\n",
       "  ('Queens', 3): 6803,\n",
       "  ('Queens', 4): 1723,\n",
       "  ('Staten Island', 1): 87,\n",
       "  ('Staten Island', 2): 51,\n",
       "  ('Staten Island', 3): 2,\n",
       "  ('Staten Island', 4): 4,\n",
       "  ('Unknown', 1): 88441,\n",
       "  ('Unknown', 2): 38198,\n",
       "  ('Unknown', 3): 1696,\n",
       "  ('Unknown', 4): 332},\n",
       " 'June': {('Bronx', 1): 5803,\n",
       "  ('Bronx', 2): 4138,\n",
       "  ('Bronx', 3): 213,\n",
       "  ('Bronx', 4): 59,\n",
       "  ('Brooklyn', 1): 80110,\n",
       "  ('Brooklyn', 2): 40853,\n",
       "  ('Brooklyn', 3): 1619,\n",
       "  ('Brooklyn', 4): 370,\n",
       "  ('EWR', 1): 564,\n",
       "  ('EWR', 2): 78,\n",
       "  ('EWR', 3): 30,\n",
       "  ('EWR', 4): 6,\n",
       "  ('Manhattan', 1): 5486315,\n",
       "  ('Manhattan', 2): 2343367,\n",
       "  ('Manhattan', 3): 37440,\n",
       "  ('Manhattan', 4): 11199,\n",
       "  ('Queens', 1): 390468,\n",
       "  ('Queens', 2): 176311,\n",
       "  ('Queens', 3): 6337,\n",
       "  ('Queens', 4): 1608,\n",
       "  ('Staten Island', 1): 87,\n",
       "  ('Staten Island', 2): 50,\n",
       "  ('Staten Island', 3): 11,\n",
       "  ('Staten Island', 4): 3,\n",
       "  ('Unknown', 1): 87142,\n",
       "  ('Unknown', 2): 37158,\n",
       "  ('Unknown', 3): 1681,\n",
       "  ('Unknown', 4): 287}}"
      ]
     },
     "execution_count": 33,
     "metadata": {},
     "output_type": "execute_result"
    }
   ],
   "source": [
    "payment_borough_global"
   ]
  },
  {
   "cell_type": "code",
   "execution_count": 49,
   "metadata": {},
   "outputs": [],
   "source": [
    "result = {}\n",
    "for i in payment_borough_global: \n",
    "    for j in payment_borough_global[i]: \n",
    "        if j not in result: \n",
    "            result[j] = payment_borough_global[i][j]\n",
    "        else: \n",
    "            result[j] += payment_borough_global[i][j]\n",
    "            \n",
    "for i in result: \n",
    "    result[i] = result[i]//6"
   ]
  },
  {
   "cell_type": "code",
   "execution_count": 50,
   "metadata": {},
   "outputs": [
    {
     "data": {
      "text/plain": [
       "Text(0.5,1,'Number of payments for each way of payments and borough - From January to June 2018')"
      ]
     },
     "execution_count": 50,
     "metadata": {},
     "output_type": "execute_result"
    },
    {
     "data": {
      "image/png": "[encoded data removed]",
      "text/plain": [
       "<Figure size 1440x504 with 1 Axes>"
      ]
     },
     "metadata": {},
     "output_type": "display_data"
    }
   ],
   "source": [
    "s = pd.Series(result)\n",
    "ax = s.unstack().plot.bar(figsize =(20,7), fontsize = 15)\n",
    "ax.set_xlabel(\"Borough\",fontsize=15)\n",
    "ax.set_ylabel(\"N payments\",fontsize=15)\n",
    "ax.legend(fontsize=12, title = \"Payment type\")\n",
    "ax.set_title(\"Number of payments for each way of payments and borough - From January to June 2018\", fontsize=15)"
   ]
  },
  {
   "cell_type": "code",
   "execution_count": 64,
   "metadata": {},
   "outputs": [
    {
     "data": {
      "text/plain": [
       "\"borough = list(t.index.levels[0])\\npayment = list(t.index.levels[1])\\nt = t.get_values()\\nborough_values = []\\nl=[t[0][0]]\\nfor i in range(1, len(t)):\\n    l.append(t[i][0])\\n    if(len(l)==7):\\n        borough_values.append(l)\\n        l=[]\\n\\nframe = pd.DataFrame(borough_values, columns=borough)\\n\\nframe['payment_type'] = payment\\n\\nframe = frame.set_index('payment_type')\\n\\nchi2, p, dof, expected = chi2_contingency(frame)\""
      ]
     },
     "execution_count": 64,
     "metadata": {},
     "output_type": "execute_result"
    }
   ],
   "source": [
    "t = pd.DataFrame(pd.Series(result))\n",
    "'''borough = list(t.index.levels[0])\n",
    "payment = list(t.index.levels[1])\n",
    "t = t.get_values()\n",
    "borough_values = []\n",
    "l=[t[0][0]]\n",
    "for i in range(1, len(t)):\n",
    "    l.append(t[i][0])\n",
    "    if(len(l)==7):\n",
    "        borough_values.append(l)\n",
    "        l=[]\n",
    "\n",
    "frame = pd.DataFrame(borough_values, columns=borough)\n",
    "\n",
    "frame['payment_type'] = payment\n",
    "\n",
    "frame = frame.set_index('payment_type')\n",
    "\n",
    "chi2, p, dof, expected = chi2_contingency(frame)'''"
   ]
  },
  {
   "cell_type": "code",
   "execution_count": 62,
   "metadata": {},
   "outputs": [
    {
     "data": {
      "text/html": [
       "<div>\n",
       "<style scoped>\n",
       "    .dataframe tbody tr th:only-of-type {\n",
       "        vertical-align: middle;\n",
       "    }\n",
       "\n",
       "    .dataframe tbody tr th {\n",
       "        vertical-align: top;\n",
       "    }\n",
       "\n",
       "    .dataframe thead th {\n",
       "        text-align: right;\n",
       "    }\n",
       "</style>\n",
       "<table border=\"1\" class=\"dataframe\">\n",
       "  <thead>\n",
       "    <tr style=\"text-align: right;\">\n",
       "      <th></th>\n",
       "      <th>Bronx</th>\n",
       "      <th>Brooklyn</th>\n",
       "      <th>EWR</th>\n",
       "      <th>Manhattan</th>\n",
       "      <th>Queens</th>\n",
       "      <th>Staten Island</th>\n",
       "      <th>Unknown</th>\n",
       "    </tr>\n",
       "    <tr>\n",
       "      <th>payment_type</th>\n",
       "      <th></th>\n",
       "      <th></th>\n",
       "      <th></th>\n",
       "      <th></th>\n",
       "      <th></th>\n",
       "      <th></th>\n",
       "      <th></th>\n",
       "    </tr>\n",
       "  </thead>\n",
       "  <tbody>\n",
       "    <tr>\n",
       "      <th>1</th>\n",
       "      <td>4631</td>\n",
       "      <td>4357</td>\n",
       "      <td>252</td>\n",
       "      <td>60</td>\n",
       "      <td>73642</td>\n",
       "      <td>38418</td>\n",
       "      <td>1464</td>\n",
       "    </tr>\n",
       "    <tr>\n",
       "      <th>2</th>\n",
       "      <td>320</td>\n",
       "      <td>506</td>\n",
       "      <td>91</td>\n",
       "      <td>36</td>\n",
       "      <td>7</td>\n",
       "      <td>5697766</td>\n",
       "      <td>2413236</td>\n",
       "    </tr>\n",
       "    <tr>\n",
       "      <th>3</th>\n",
       "      <td>37799</td>\n",
       "      <td>10602</td>\n",
       "      <td>385186</td>\n",
       "      <td>166769</td>\n",
       "      <td>6215</td>\n",
       "      <td>1489</td>\n",
       "      <td>72</td>\n",
       "    </tr>\n",
       "    <tr>\n",
       "      <th>4</th>\n",
       "      <td>53</td>\n",
       "      <td>8</td>\n",
       "      <td>2</td>\n",
       "      <td>99216</td>\n",
       "      <td>42633</td>\n",
       "      <td>1775</td>\n",
       "      <td>385</td>\n",
       "    </tr>\n",
       "  </tbody>\n",
       "</table>\n",
       "</div>"
      ],
      "text/plain": [
       "              Bronx  Brooklyn     EWR  Manhattan  Queens  Staten Island  \\\n",
       "payment_type                                                              \n",
       "1              4631      4357     252         60   73642          38418   \n",
       "2               320       506      91         36       7        5697766   \n",
       "3             37799     10602  385186     166769    6215           1489   \n",
       "4                53         8       2      99216   42633           1775   \n",
       "\n",
       "              Unknown  \n",
       "payment_type           \n",
       "1                1464  \n",
       "2             2413236  \n",
       "3                  72  \n",
       "4                 385  "
      ]
     },
     "execution_count": 62,
     "metadata": {},
     "output_type": "execute_result"
    }
   ],
   "source": [
    "frame"
   ]
  },
  {
   "cell_type": "code",
   "execution_count": 63,
   "metadata": {},
   "outputs": [
    {
     "data": {
      "text/plain": [
       "[[4631, 4357, 252, 60, 73642, 38418, 1464],\n",
       " [320, 506, 91, 36, 7, 5697766, 2413236],\n",
       " [37799, 10602, 385186, 166769, 6215, 1489, 72],\n",
       " [53, 8, 2, 99216, 42633, 1775, 385]]"
      ]
     },
     "execution_count": 63,
     "metadata": {},
     "output_type": "execute_result"
    }
   ],
   "source": [
    "borough_values"
   ]
  },
  {
   "cell_type": "code",
   "execution_count": 65,
   "metadata": {},
   "outputs": [
    {
     "data": {
      "text/html": [
       "<div>\n",
       "<style scoped>\n",
       "    .dataframe tbody tr th:only-of-type {\n",
       "        vertical-align: middle;\n",
       "    }\n",
       "\n",
       "    .dataframe tbody tr th {\n",
       "        vertical-align: top;\n",
       "    }\n",
       "\n",
       "    .dataframe thead th {\n",
       "        text-align: right;\n",
       "    }\n",
       "</style>\n",
       "<table border=\"1\" class=\"dataframe\">\n",
       "  <thead>\n",
       "    <tr style=\"text-align: right;\">\n",
       "      <th></th>\n",
       "      <th></th>\n",
       "      <th>0</th>\n",
       "    </tr>\n",
       "  </thead>\n",
       "  <tbody>\n",
       "    <tr>\n",
       "      <th rowspan=\"4\" valign=\"top\">Bronx</th>\n",
       "      <th>1</th>\n",
       "      <td>4631</td>\n",
       "    </tr>\n",
       "    <tr>\n",
       "      <th>2</th>\n",
       "      <td>4357</td>\n",
       "    </tr>\n",
       "    <tr>\n",
       "      <th>3</th>\n",
       "      <td>252</td>\n",
       "    </tr>\n",
       "    <tr>\n",
       "      <th>4</th>\n",
       "      <td>60</td>\n",
       "    </tr>\n",
       "    <tr>\n",
       "      <th rowspan=\"4\" valign=\"top\">Brooklyn</th>\n",
       "      <th>1</th>\n",
       "      <td>73642</td>\n",
       "    </tr>\n",
       "    <tr>\n",
       "      <th>2</th>\n",
       "      <td>38418</td>\n",
       "    </tr>\n",
       "    <tr>\n",
       "      <th>3</th>\n",
       "      <td>1464</td>\n",
       "    </tr>\n",
       "    <tr>\n",
       "      <th>4</th>\n",
       "      <td>320</td>\n",
       "    </tr>\n",
       "    <tr>\n",
       "      <th rowspan=\"4\" valign=\"top\">EWR</th>\n",
       "      <th>1</th>\n",
       "      <td>506</td>\n",
       "    </tr>\n",
       "    <tr>\n",
       "      <th>2</th>\n",
       "      <td>91</td>\n",
       "    </tr>\n",
       "    <tr>\n",
       "      <th>3</th>\n",
       "      <td>36</td>\n",
       "    </tr>\n",
       "    <tr>\n",
       "      <th>4</th>\n",
       "      <td>7</td>\n",
       "    </tr>\n",
       "    <tr>\n",
       "      <th rowspan=\"4\" valign=\"top\">Manhattan</th>\n",
       "      <th>1</th>\n",
       "      <td>5697766</td>\n",
       "    </tr>\n",
       "    <tr>\n",
       "      <th>2</th>\n",
       "      <td>2413236</td>\n",
       "    </tr>\n",
       "    <tr>\n",
       "      <th>3</th>\n",
       "      <td>37799</td>\n",
       "    </tr>\n",
       "    <tr>\n",
       "      <th>4</th>\n",
       "      <td>10602</td>\n",
       "    </tr>\n",
       "    <tr>\n",
       "      <th rowspan=\"4\" valign=\"top\">Queens</th>\n",
       "      <th>1</th>\n",
       "      <td>385186</td>\n",
       "    </tr>\n",
       "    <tr>\n",
       "      <th>2</th>\n",
       "      <td>166769</td>\n",
       "    </tr>\n",
       "    <tr>\n",
       "      <th>3</th>\n",
       "      <td>6215</td>\n",
       "    </tr>\n",
       "    <tr>\n",
       "      <th>4</th>\n",
       "      <td>1489</td>\n",
       "    </tr>\n",
       "    <tr>\n",
       "      <th rowspan=\"4\" valign=\"top\">Staten Island</th>\n",
       "      <th>1</th>\n",
       "      <td>72</td>\n",
       "    </tr>\n",
       "    <tr>\n",
       "      <th>2</th>\n",
       "      <td>53</td>\n",
       "    </tr>\n",
       "    <tr>\n",
       "      <th>3</th>\n",
       "      <td>8</td>\n",
       "    </tr>\n",
       "    <tr>\n",
       "      <th>4</th>\n",
       "      <td>2</td>\n",
       "    </tr>\n",
       "    <tr>\n",
       "      <th rowspan=\"4\" valign=\"top\">Unknown</th>\n",
       "      <th>1</th>\n",
       "      <td>99216</td>\n",
       "    </tr>\n",
       "    <tr>\n",
       "      <th>2</th>\n",
       "      <td>42633</td>\n",
       "    </tr>\n",
       "    <tr>\n",
       "      <th>3</th>\n",
       "      <td>1775</td>\n",
       "    </tr>\n",
       "    <tr>\n",
       "      <th>4</th>\n",
       "      <td>385</td>\n",
       "    </tr>\n",
       "  </tbody>\n",
       "</table>\n",
       "</div>"
      ],
      "text/plain": [
       "                       0\n",
       "Bronx         1     4631\n",
       "              2     4357\n",
       "              3      252\n",
       "              4       60\n",
       "Brooklyn      1    73642\n",
       "              2    38418\n",
       "              3     1464\n",
       "              4      320\n",
       "EWR           1      506\n",
       "              2       91\n",
       "              3       36\n",
       "              4        7\n",
       "Manhattan     1  5697766\n",
       "              2  2413236\n",
       "              3    37799\n",
       "              4    10602\n",
       "Queens        1   385186\n",
       "              2   166769\n",
       "              3     6215\n",
       "              4     1489\n",
       "Staten Island 1       72\n",
       "              2       53\n",
       "              3        8\n",
       "              4        2\n",
       "Unknown       1    99216\n",
       "              2    42633\n",
       "              3     1775\n",
       "              4      385"
      ]
     },
     "execution_count": 65,
     "metadata": {},
     "output_type": "execute_result"
    }
   ],
   "source": [
    "t"
   ]
  },
  {
   "cell_type": "code",
   "execution_count": null,
   "metadata": {},
   "outputs": [],
   "source": []
  }
 ],
 "metadata": {
  "kernelspec": {
   "display_name": "Python 3",
   "language": "python",
   "name": "python3"
  },
  "language_info": {
   "codemirror_mode": {
    "name": "ipython",
    "version": 3
   },
   "file_extension": ".py",
   "mimetype": "text/x-python",
   "name": "python",
   "nbconvert_exporter": "python",
   "pygments_lexer": "ipython3",
   "version": "3.6.5"
  }
 },
 "nbformat": 4,
 "nbformat_minor": 2
}
